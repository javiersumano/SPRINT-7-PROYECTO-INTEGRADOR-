{
 "cells": [
  {
   "cell_type": "markdown",
   "metadata": {},
   "source": [
    "¡Hola!\n",
    "\n",
    "Mi nombre es Tonatiuh Cruz. Me complace revisar tu proyecto hoy.\n",
    "\n",
    "Al identificar cualquier error inicialmente, simplemente los destacaré. Te animo a localizar y abordar los problemas de forma independiente como parte de tu preparación para un rol como data-scientist. En un entorno profesional, tu líder de equipo seguiría un enfoque similar. Si encuentras la tarea desafiante, proporcionaré una pista más específica en la próxima iteración.\n",
    "\n",
    "Encontrarás mis comentarios a continuación - **por favor no los muevas, modifiques o elimines**.\n",
    "\n",
    "Puedes encontrar mis comentarios en cajas verdes, amarillas o rojas como esta:\n",
    "\n",
    "<div class=\"alert alert-block alert-success\">\n",
    "<b>Comentario del revisor</b> <a class=\"tocSkip\"></a>\n",
    "\n",
    "Éxito. Todo está hecho correctamente.\n",
    "</div>\n",
    "\n",
    "<div class=\"alert alert-block alert-warning\">\n",
    "<b>Comentario del revisor</b> <a class=\"tocSkip\"></a>\n",
    "\n",
    "Observaciones. Algunas recomendaciones.\n",
    "</div>\n",
    "\n",
    "<div class=\"alert alert-block alert-danger\">\n",
    "<b>Comentario del revisor</b> <a class=\"tocSkip\"></a>\n",
    "\n",
    "Necesita corrección. El bloque requiere algunas correcciones. El trabajo no puede ser aceptado con comentarios en rojo.\n",
    "</div>\n",
    "\n",
    "Puedes responderme utilizando esto:\n",
    "\n",
    "<div class=\"alert alert-block alert-info\">\n",
    "<b>Respuesta del estudiante.</b> <a class=\"tocSkip\"></a>\n",
    "</div>"
   ]
  },
  {
   "cell_type": "markdown",
   "metadata": {
    "tags": [
     "e5c1f0c2-db9f-43a0-99b9-4875c52427e8"
    ]
   },
   "source": [
    "# Descripción del proyecto\n",
    "\n",
    "En este proyecto se va a trabajar para la tienda online Ice que vende videojuegos por todo el mundo. Las reseñas de usuarios y expertos, los géneros, las plataformas (por ejemplo, Xbox o PlayStation) y los datos históricos sobre las ventas de juegos están disponibles en fuentes abiertas. Se tendran que identificar  patrones que determinen si un juego tiene éxito o no. Esto nos permitirá detectar proyectos prometedores y planificar campañas publicitarias."
   ]
  },
  {
   "cell_type": "markdown",
   "metadata": {},
   "source": [
    "# 1 "
   ]
  },
  {
   "cell_type": "code",
   "execution_count": 1,
   "metadata": {},
   "outputs": [],
   "source": [
    "# Cargar todas las librerías\n",
    "\n",
    "import pandas as pd\n",
    "import numpy as np\n",
    "import matplotlib.pyplot as plt \n",
    "from scipy import stats as st\n",
    "import seaborn as sns"
   ]
  },
  {
   "cell_type": "markdown",
   "metadata": {},
   "source": [
    "#  1.1 Carga de Datos "
   ]
  },
  {
   "cell_type": "code",
   "execution_count": 2,
   "metadata": {},
   "outputs": [],
   "source": [
    "#Importar el archivo a trabajar.\n",
    "df = pd.read_csv('/datasets/games.csv')"
   ]
  },
  {
   "cell_type": "markdown",
   "metadata": {},
   "source": [
    "\n",
    "<div class=\"alert alert-block alert-success\">\n",
    "<b>Comentario del revisor:</b> <a class=\"tocSkip\"></a>\n",
    "    \n",
    "Has realizado un excelente trabajo al importar los datos y las bibliotecas necesarias.\n",
    "\n",
    "</div>"
   ]
  },
  {
   "cell_type": "markdown",
   "metadata": {},
   "source": [
    " #  1.2 Análisis de datos. "
   ]
  },
  {
   "cell_type": "code",
   "execution_count": 3,
   "metadata": {},
   "outputs": [
    {
     "data": {
      "text/html": [
       "<div>\n",
       "<style scoped>\n",
       "    .dataframe tbody tr th:only-of-type {\n",
       "        vertical-align: middle;\n",
       "    }\n",
       "\n",
       "    .dataframe tbody tr th {\n",
       "        vertical-align: top;\n",
       "    }\n",
       "\n",
       "    .dataframe thead th {\n",
       "        text-align: right;\n",
       "    }\n",
       "</style>\n",
       "<table border=\"1\" class=\"dataframe\">\n",
       "  <thead>\n",
       "    <tr style=\"text-align: right;\">\n",
       "      <th></th>\n",
       "      <th>Name</th>\n",
       "      <th>Platform</th>\n",
       "      <th>Year_of_Release</th>\n",
       "      <th>Genre</th>\n",
       "      <th>NA_sales</th>\n",
       "      <th>EU_sales</th>\n",
       "      <th>JP_sales</th>\n",
       "      <th>Other_sales</th>\n",
       "      <th>Critic_Score</th>\n",
       "      <th>User_Score</th>\n",
       "      <th>Rating</th>\n",
       "    </tr>\n",
       "  </thead>\n",
       "  <tbody>\n",
       "    <tr>\n",
       "      <th>0</th>\n",
       "      <td>Wii Sports</td>\n",
       "      <td>Wii</td>\n",
       "      <td>2006.0</td>\n",
       "      <td>Sports</td>\n",
       "      <td>41.36</td>\n",
       "      <td>28.96</td>\n",
       "      <td>3.77</td>\n",
       "      <td>8.45</td>\n",
       "      <td>76.0</td>\n",
       "      <td>8</td>\n",
       "      <td>E</td>\n",
       "    </tr>\n",
       "    <tr>\n",
       "      <th>1</th>\n",
       "      <td>Super Mario Bros.</td>\n",
       "      <td>NES</td>\n",
       "      <td>1985.0</td>\n",
       "      <td>Platform</td>\n",
       "      <td>29.08</td>\n",
       "      <td>3.58</td>\n",
       "      <td>6.81</td>\n",
       "      <td>0.77</td>\n",
       "      <td>NaN</td>\n",
       "      <td>NaN</td>\n",
       "      <td>NaN</td>\n",
       "    </tr>\n",
       "    <tr>\n",
       "      <th>2</th>\n",
       "      <td>Mario Kart Wii</td>\n",
       "      <td>Wii</td>\n",
       "      <td>2008.0</td>\n",
       "      <td>Racing</td>\n",
       "      <td>15.68</td>\n",
       "      <td>12.76</td>\n",
       "      <td>3.79</td>\n",
       "      <td>3.29</td>\n",
       "      <td>82.0</td>\n",
       "      <td>8.3</td>\n",
       "      <td>E</td>\n",
       "    </tr>\n",
       "    <tr>\n",
       "      <th>3</th>\n",
       "      <td>Wii Sports Resort</td>\n",
       "      <td>Wii</td>\n",
       "      <td>2009.0</td>\n",
       "      <td>Sports</td>\n",
       "      <td>15.61</td>\n",
       "      <td>10.93</td>\n",
       "      <td>3.28</td>\n",
       "      <td>2.95</td>\n",
       "      <td>80.0</td>\n",
       "      <td>8</td>\n",
       "      <td>E</td>\n",
       "    </tr>\n",
       "    <tr>\n",
       "      <th>4</th>\n",
       "      <td>Pokemon Red/Pokemon Blue</td>\n",
       "      <td>GB</td>\n",
       "      <td>1996.0</td>\n",
       "      <td>Role-Playing</td>\n",
       "      <td>11.27</td>\n",
       "      <td>8.89</td>\n",
       "      <td>10.22</td>\n",
       "      <td>1.00</td>\n",
       "      <td>NaN</td>\n",
       "      <td>NaN</td>\n",
       "      <td>NaN</td>\n",
       "    </tr>\n",
       "    <tr>\n",
       "      <th>5</th>\n",
       "      <td>Tetris</td>\n",
       "      <td>GB</td>\n",
       "      <td>1989.0</td>\n",
       "      <td>Puzzle</td>\n",
       "      <td>23.20</td>\n",
       "      <td>2.26</td>\n",
       "      <td>4.22</td>\n",
       "      <td>0.58</td>\n",
       "      <td>NaN</td>\n",
       "      <td>NaN</td>\n",
       "      <td>NaN</td>\n",
       "    </tr>\n",
       "    <tr>\n",
       "      <th>6</th>\n",
       "      <td>New Super Mario Bros.</td>\n",
       "      <td>DS</td>\n",
       "      <td>2006.0</td>\n",
       "      <td>Platform</td>\n",
       "      <td>11.28</td>\n",
       "      <td>9.14</td>\n",
       "      <td>6.50</td>\n",
       "      <td>2.88</td>\n",
       "      <td>89.0</td>\n",
       "      <td>8.5</td>\n",
       "      <td>E</td>\n",
       "    </tr>\n",
       "    <tr>\n",
       "      <th>7</th>\n",
       "      <td>Wii Play</td>\n",
       "      <td>Wii</td>\n",
       "      <td>2006.0</td>\n",
       "      <td>Misc</td>\n",
       "      <td>13.96</td>\n",
       "      <td>9.18</td>\n",
       "      <td>2.93</td>\n",
       "      <td>2.84</td>\n",
       "      <td>58.0</td>\n",
       "      <td>6.6</td>\n",
       "      <td>E</td>\n",
       "    </tr>\n",
       "    <tr>\n",
       "      <th>8</th>\n",
       "      <td>New Super Mario Bros. Wii</td>\n",
       "      <td>Wii</td>\n",
       "      <td>2009.0</td>\n",
       "      <td>Platform</td>\n",
       "      <td>14.44</td>\n",
       "      <td>6.94</td>\n",
       "      <td>4.70</td>\n",
       "      <td>2.24</td>\n",
       "      <td>87.0</td>\n",
       "      <td>8.4</td>\n",
       "      <td>E</td>\n",
       "    </tr>\n",
       "    <tr>\n",
       "      <th>9</th>\n",
       "      <td>Duck Hunt</td>\n",
       "      <td>NES</td>\n",
       "      <td>1984.0</td>\n",
       "      <td>Shooter</td>\n",
       "      <td>26.93</td>\n",
       "      <td>0.63</td>\n",
       "      <td>0.28</td>\n",
       "      <td>0.47</td>\n",
       "      <td>NaN</td>\n",
       "      <td>NaN</td>\n",
       "      <td>NaN</td>\n",
       "    </tr>\n",
       "    <tr>\n",
       "      <th>10</th>\n",
       "      <td>Nintendogs</td>\n",
       "      <td>DS</td>\n",
       "      <td>2005.0</td>\n",
       "      <td>Simulation</td>\n",
       "      <td>9.05</td>\n",
       "      <td>10.95</td>\n",
       "      <td>1.93</td>\n",
       "      <td>2.74</td>\n",
       "      <td>NaN</td>\n",
       "      <td>NaN</td>\n",
       "      <td>NaN</td>\n",
       "    </tr>\n",
       "    <tr>\n",
       "      <th>11</th>\n",
       "      <td>Mario Kart DS</td>\n",
       "      <td>DS</td>\n",
       "      <td>2005.0</td>\n",
       "      <td>Racing</td>\n",
       "      <td>9.71</td>\n",
       "      <td>7.47</td>\n",
       "      <td>4.13</td>\n",
       "      <td>1.90</td>\n",
       "      <td>91.0</td>\n",
       "      <td>8.6</td>\n",
       "      <td>E</td>\n",
       "    </tr>\n",
       "    <tr>\n",
       "      <th>12</th>\n",
       "      <td>Pokemon Gold/Pokemon Silver</td>\n",
       "      <td>GB</td>\n",
       "      <td>1999.0</td>\n",
       "      <td>Role-Playing</td>\n",
       "      <td>9.00</td>\n",
       "      <td>6.18</td>\n",
       "      <td>7.20</td>\n",
       "      <td>0.71</td>\n",
       "      <td>NaN</td>\n",
       "      <td>NaN</td>\n",
       "      <td>NaN</td>\n",
       "    </tr>\n",
       "    <tr>\n",
       "      <th>13</th>\n",
       "      <td>Wii Fit</td>\n",
       "      <td>Wii</td>\n",
       "      <td>2007.0</td>\n",
       "      <td>Sports</td>\n",
       "      <td>8.92</td>\n",
       "      <td>8.03</td>\n",
       "      <td>3.60</td>\n",
       "      <td>2.15</td>\n",
       "      <td>80.0</td>\n",
       "      <td>7.7</td>\n",
       "      <td>E</td>\n",
       "    </tr>\n",
       "    <tr>\n",
       "      <th>14</th>\n",
       "      <td>Kinect Adventures!</td>\n",
       "      <td>X360</td>\n",
       "      <td>2010.0</td>\n",
       "      <td>Misc</td>\n",
       "      <td>15.00</td>\n",
       "      <td>4.89</td>\n",
       "      <td>0.24</td>\n",
       "      <td>1.69</td>\n",
       "      <td>61.0</td>\n",
       "      <td>6.3</td>\n",
       "      <td>E</td>\n",
       "    </tr>\n",
       "    <tr>\n",
       "      <th>15</th>\n",
       "      <td>Wii Fit Plus</td>\n",
       "      <td>Wii</td>\n",
       "      <td>2009.0</td>\n",
       "      <td>Sports</td>\n",
       "      <td>9.01</td>\n",
       "      <td>8.49</td>\n",
       "      <td>2.53</td>\n",
       "      <td>1.77</td>\n",
       "      <td>80.0</td>\n",
       "      <td>7.4</td>\n",
       "      <td>E</td>\n",
       "    </tr>\n",
       "    <tr>\n",
       "      <th>16</th>\n",
       "      <td>Grand Theft Auto V</td>\n",
       "      <td>PS3</td>\n",
       "      <td>2013.0</td>\n",
       "      <td>Action</td>\n",
       "      <td>7.02</td>\n",
       "      <td>9.09</td>\n",
       "      <td>0.98</td>\n",
       "      <td>3.96</td>\n",
       "      <td>97.0</td>\n",
       "      <td>8.2</td>\n",
       "      <td>M</td>\n",
       "    </tr>\n",
       "    <tr>\n",
       "      <th>17</th>\n",
       "      <td>Grand Theft Auto: San Andreas</td>\n",
       "      <td>PS2</td>\n",
       "      <td>2004.0</td>\n",
       "      <td>Action</td>\n",
       "      <td>9.43</td>\n",
       "      <td>0.40</td>\n",
       "      <td>0.41</td>\n",
       "      <td>10.57</td>\n",
       "      <td>95.0</td>\n",
       "      <td>9</td>\n",
       "      <td>M</td>\n",
       "    </tr>\n",
       "    <tr>\n",
       "      <th>18</th>\n",
       "      <td>Super Mario World</td>\n",
       "      <td>SNES</td>\n",
       "      <td>1990.0</td>\n",
       "      <td>Platform</td>\n",
       "      <td>12.78</td>\n",
       "      <td>3.75</td>\n",
       "      <td>3.54</td>\n",
       "      <td>0.55</td>\n",
       "      <td>NaN</td>\n",
       "      <td>NaN</td>\n",
       "      <td>NaN</td>\n",
       "    </tr>\n",
       "    <tr>\n",
       "      <th>19</th>\n",
       "      <td>Brain Age: Train Your Brain in Minutes a Day</td>\n",
       "      <td>DS</td>\n",
       "      <td>2005.0</td>\n",
       "      <td>Misc</td>\n",
       "      <td>4.74</td>\n",
       "      <td>9.20</td>\n",
       "      <td>4.16</td>\n",
       "      <td>2.04</td>\n",
       "      <td>77.0</td>\n",
       "      <td>7.9</td>\n",
       "      <td>E</td>\n",
       "    </tr>\n",
       "    <tr>\n",
       "      <th>20</th>\n",
       "      <td>Pokemon Diamond/Pokemon Pearl</td>\n",
       "      <td>DS</td>\n",
       "      <td>2006.0</td>\n",
       "      <td>Role-Playing</td>\n",
       "      <td>6.38</td>\n",
       "      <td>4.46</td>\n",
       "      <td>6.04</td>\n",
       "      <td>1.36</td>\n",
       "      <td>NaN</td>\n",
       "      <td>NaN</td>\n",
       "      <td>NaN</td>\n",
       "    </tr>\n",
       "    <tr>\n",
       "      <th>21</th>\n",
       "      <td>Super Mario Land</td>\n",
       "      <td>GB</td>\n",
       "      <td>1989.0</td>\n",
       "      <td>Platform</td>\n",
       "      <td>10.83</td>\n",
       "      <td>2.71</td>\n",
       "      <td>4.18</td>\n",
       "      <td>0.42</td>\n",
       "      <td>NaN</td>\n",
       "      <td>NaN</td>\n",
       "      <td>NaN</td>\n",
       "    </tr>\n",
       "    <tr>\n",
       "      <th>22</th>\n",
       "      <td>Super Mario Bros. 3</td>\n",
       "      <td>NES</td>\n",
       "      <td>1988.0</td>\n",
       "      <td>Platform</td>\n",
       "      <td>9.54</td>\n",
       "      <td>3.44</td>\n",
       "      <td>3.84</td>\n",
       "      <td>0.46</td>\n",
       "      <td>NaN</td>\n",
       "      <td>NaN</td>\n",
       "      <td>NaN</td>\n",
       "    </tr>\n",
       "    <tr>\n",
       "      <th>23</th>\n",
       "      <td>Grand Theft Auto V</td>\n",
       "      <td>X360</td>\n",
       "      <td>2013.0</td>\n",
       "      <td>Action</td>\n",
       "      <td>9.66</td>\n",
       "      <td>5.14</td>\n",
       "      <td>0.06</td>\n",
       "      <td>1.41</td>\n",
       "      <td>97.0</td>\n",
       "      <td>8.1</td>\n",
       "      <td>M</td>\n",
       "    </tr>\n",
       "    <tr>\n",
       "      <th>24</th>\n",
       "      <td>Grand Theft Auto: Vice City</td>\n",
       "      <td>PS2</td>\n",
       "      <td>2002.0</td>\n",
       "      <td>Action</td>\n",
       "      <td>8.41</td>\n",
       "      <td>5.49</td>\n",
       "      <td>0.47</td>\n",
       "      <td>1.78</td>\n",
       "      <td>95.0</td>\n",
       "      <td>8.7</td>\n",
       "      <td>M</td>\n",
       "    </tr>\n",
       "    <tr>\n",
       "      <th>25</th>\n",
       "      <td>Pokemon Ruby/Pokemon Sapphire</td>\n",
       "      <td>GBA</td>\n",
       "      <td>2002.0</td>\n",
       "      <td>Role-Playing</td>\n",
       "      <td>6.06</td>\n",
       "      <td>3.90</td>\n",
       "      <td>5.38</td>\n",
       "      <td>0.50</td>\n",
       "      <td>NaN</td>\n",
       "      <td>NaN</td>\n",
       "      <td>NaN</td>\n",
       "    </tr>\n",
       "    <tr>\n",
       "      <th>26</th>\n",
       "      <td>Brain Age 2: More Training in Minutes a Day</td>\n",
       "      <td>DS</td>\n",
       "      <td>2005.0</td>\n",
       "      <td>Puzzle</td>\n",
       "      <td>3.43</td>\n",
       "      <td>5.35</td>\n",
       "      <td>5.32</td>\n",
       "      <td>1.18</td>\n",
       "      <td>77.0</td>\n",
       "      <td>7.1</td>\n",
       "      <td>E</td>\n",
       "    </tr>\n",
       "    <tr>\n",
       "      <th>27</th>\n",
       "      <td>Pokemon Black/Pokemon White</td>\n",
       "      <td>DS</td>\n",
       "      <td>2010.0</td>\n",
       "      <td>Role-Playing</td>\n",
       "      <td>5.51</td>\n",
       "      <td>3.17</td>\n",
       "      <td>5.65</td>\n",
       "      <td>0.80</td>\n",
       "      <td>NaN</td>\n",
       "      <td>NaN</td>\n",
       "      <td>NaN</td>\n",
       "    </tr>\n",
       "    <tr>\n",
       "      <th>28</th>\n",
       "      <td>Gran Turismo 3: A-Spec</td>\n",
       "      <td>PS2</td>\n",
       "      <td>2001.0</td>\n",
       "      <td>Racing</td>\n",
       "      <td>6.85</td>\n",
       "      <td>5.09</td>\n",
       "      <td>1.87</td>\n",
       "      <td>1.16</td>\n",
       "      <td>95.0</td>\n",
       "      <td>8.4</td>\n",
       "      <td>E</td>\n",
       "    </tr>\n",
       "    <tr>\n",
       "      <th>29</th>\n",
       "      <td>Call of Duty: Modern Warfare 3</td>\n",
       "      <td>X360</td>\n",
       "      <td>2011.0</td>\n",
       "      <td>Shooter</td>\n",
       "      <td>9.04</td>\n",
       "      <td>4.24</td>\n",
       "      <td>0.13</td>\n",
       "      <td>1.32</td>\n",
       "      <td>88.0</td>\n",
       "      <td>3.4</td>\n",
       "      <td>M</td>\n",
       "    </tr>\n",
       "  </tbody>\n",
       "</table>\n",
       "</div>"
      ],
      "text/plain": [
       "                                            Name Platform  Year_of_Release  \\\n",
       "0                                     Wii Sports      Wii           2006.0   \n",
       "1                              Super Mario Bros.      NES           1985.0   \n",
       "2                                 Mario Kart Wii      Wii           2008.0   \n",
       "3                              Wii Sports Resort      Wii           2009.0   \n",
       "4                       Pokemon Red/Pokemon Blue       GB           1996.0   \n",
       "5                                         Tetris       GB           1989.0   \n",
       "6                          New Super Mario Bros.       DS           2006.0   \n",
       "7                                       Wii Play      Wii           2006.0   \n",
       "8                      New Super Mario Bros. Wii      Wii           2009.0   \n",
       "9                                      Duck Hunt      NES           1984.0   \n",
       "10                                    Nintendogs       DS           2005.0   \n",
       "11                                 Mario Kart DS       DS           2005.0   \n",
       "12                   Pokemon Gold/Pokemon Silver       GB           1999.0   \n",
       "13                                       Wii Fit      Wii           2007.0   \n",
       "14                            Kinect Adventures!     X360           2010.0   \n",
       "15                                  Wii Fit Plus      Wii           2009.0   \n",
       "16                            Grand Theft Auto V      PS3           2013.0   \n",
       "17                 Grand Theft Auto: San Andreas      PS2           2004.0   \n",
       "18                             Super Mario World     SNES           1990.0   \n",
       "19  Brain Age: Train Your Brain in Minutes a Day       DS           2005.0   \n",
       "20                 Pokemon Diamond/Pokemon Pearl       DS           2006.0   \n",
       "21                              Super Mario Land       GB           1989.0   \n",
       "22                           Super Mario Bros. 3      NES           1988.0   \n",
       "23                            Grand Theft Auto V     X360           2013.0   \n",
       "24                   Grand Theft Auto: Vice City      PS2           2002.0   \n",
       "25                 Pokemon Ruby/Pokemon Sapphire      GBA           2002.0   \n",
       "26   Brain Age 2: More Training in Minutes a Day       DS           2005.0   \n",
       "27                   Pokemon Black/Pokemon White       DS           2010.0   \n",
       "28                        Gran Turismo 3: A-Spec      PS2           2001.0   \n",
       "29                Call of Duty: Modern Warfare 3     X360           2011.0   \n",
       "\n",
       "           Genre  NA_sales  EU_sales  JP_sales  Other_sales  Critic_Score  \\\n",
       "0         Sports     41.36     28.96      3.77         8.45          76.0   \n",
       "1       Platform     29.08      3.58      6.81         0.77           NaN   \n",
       "2         Racing     15.68     12.76      3.79         3.29          82.0   \n",
       "3         Sports     15.61     10.93      3.28         2.95          80.0   \n",
       "4   Role-Playing     11.27      8.89     10.22         1.00           NaN   \n",
       "5         Puzzle     23.20      2.26      4.22         0.58           NaN   \n",
       "6       Platform     11.28      9.14      6.50         2.88          89.0   \n",
       "7           Misc     13.96      9.18      2.93         2.84          58.0   \n",
       "8       Platform     14.44      6.94      4.70         2.24          87.0   \n",
       "9        Shooter     26.93      0.63      0.28         0.47           NaN   \n",
       "10    Simulation      9.05     10.95      1.93         2.74           NaN   \n",
       "11        Racing      9.71      7.47      4.13         1.90          91.0   \n",
       "12  Role-Playing      9.00      6.18      7.20         0.71           NaN   \n",
       "13        Sports      8.92      8.03      3.60         2.15          80.0   \n",
       "14          Misc     15.00      4.89      0.24         1.69          61.0   \n",
       "15        Sports      9.01      8.49      2.53         1.77          80.0   \n",
       "16        Action      7.02      9.09      0.98         3.96          97.0   \n",
       "17        Action      9.43      0.40      0.41        10.57          95.0   \n",
       "18      Platform     12.78      3.75      3.54         0.55           NaN   \n",
       "19          Misc      4.74      9.20      4.16         2.04          77.0   \n",
       "20  Role-Playing      6.38      4.46      6.04         1.36           NaN   \n",
       "21      Platform     10.83      2.71      4.18         0.42           NaN   \n",
       "22      Platform      9.54      3.44      3.84         0.46           NaN   \n",
       "23        Action      9.66      5.14      0.06         1.41          97.0   \n",
       "24        Action      8.41      5.49      0.47         1.78          95.0   \n",
       "25  Role-Playing      6.06      3.90      5.38         0.50           NaN   \n",
       "26        Puzzle      3.43      5.35      5.32         1.18          77.0   \n",
       "27  Role-Playing      5.51      3.17      5.65         0.80           NaN   \n",
       "28        Racing      6.85      5.09      1.87         1.16          95.0   \n",
       "29       Shooter      9.04      4.24      0.13         1.32          88.0   \n",
       "\n",
       "   User_Score Rating  \n",
       "0           8      E  \n",
       "1         NaN    NaN  \n",
       "2         8.3      E  \n",
       "3           8      E  \n",
       "4         NaN    NaN  \n",
       "5         NaN    NaN  \n",
       "6         8.5      E  \n",
       "7         6.6      E  \n",
       "8         8.4      E  \n",
       "9         NaN    NaN  \n",
       "10        NaN    NaN  \n",
       "11        8.6      E  \n",
       "12        NaN    NaN  \n",
       "13        7.7      E  \n",
       "14        6.3      E  \n",
       "15        7.4      E  \n",
       "16        8.2      M  \n",
       "17          9      M  \n",
       "18        NaN    NaN  \n",
       "19        7.9      E  \n",
       "20        NaN    NaN  \n",
       "21        NaN    NaN  \n",
       "22        NaN    NaN  \n",
       "23        8.1      M  \n",
       "24        8.7      M  \n",
       "25        NaN    NaN  \n",
       "26        7.1      E  \n",
       "27        NaN    NaN  \n",
       "28        8.4      E  \n",
       "29        3.4      M  "
      ]
     },
     "execution_count": 3,
     "metadata": {},
     "output_type": "execute_result"
    }
   ],
   "source": [
    "# Obtener las 10 primeras filas de la tabla df\n",
    "df.head(30)"
   ]
  },
  {
   "cell_type": "code",
   "execution_count": 4,
   "metadata": {},
   "outputs": [
    {
     "name": "stdout",
     "output_type": "stream",
     "text": [
      "<class 'pandas.core.frame.DataFrame'>\n",
      "RangeIndex: 16715 entries, 0 to 16714\n",
      "Data columns (total 11 columns):\n",
      " #   Column           Non-Null Count  Dtype  \n",
      "---  ------           --------------  -----  \n",
      " 0   Name             16713 non-null  object \n",
      " 1   Platform         16715 non-null  object \n",
      " 2   Year_of_Release  16446 non-null  float64\n",
      " 3   Genre            16713 non-null  object \n",
      " 4   NA_sales         16715 non-null  float64\n",
      " 5   EU_sales         16715 non-null  float64\n",
      " 6   JP_sales         16715 non-null  float64\n",
      " 7   Other_sales      16715 non-null  float64\n",
      " 8   Critic_Score     8137 non-null   float64\n",
      " 9   User_Score       10014 non-null  object \n",
      " 10  Rating           9949 non-null   object \n",
      "dtypes: float64(6), object(5)\n",
      "memory usage: 1.4+ MB\n",
      "\n",
      "\n"
     ]
    },
    {
     "data": {
      "text/html": [
       "<div>\n",
       "<style scoped>\n",
       "    .dataframe tbody tr th:only-of-type {\n",
       "        vertical-align: middle;\n",
       "    }\n",
       "\n",
       "    .dataframe tbody tr th {\n",
       "        vertical-align: top;\n",
       "    }\n",
       "\n",
       "    .dataframe thead th {\n",
       "        text-align: right;\n",
       "    }\n",
       "</style>\n",
       "<table border=\"1\" class=\"dataframe\">\n",
       "  <thead>\n",
       "    <tr style=\"text-align: right;\">\n",
       "      <th></th>\n",
       "      <th>Year_of_Release</th>\n",
       "      <th>NA_sales</th>\n",
       "      <th>EU_sales</th>\n",
       "      <th>JP_sales</th>\n",
       "      <th>Other_sales</th>\n",
       "      <th>Critic_Score</th>\n",
       "    </tr>\n",
       "  </thead>\n",
       "  <tbody>\n",
       "    <tr>\n",
       "      <th>count</th>\n",
       "      <td>16446.000000</td>\n",
       "      <td>16715.000000</td>\n",
       "      <td>16715.000000</td>\n",
       "      <td>16715.000000</td>\n",
       "      <td>16715.000000</td>\n",
       "      <td>8137.000000</td>\n",
       "    </tr>\n",
       "    <tr>\n",
       "      <th>mean</th>\n",
       "      <td>2006.484616</td>\n",
       "      <td>0.263377</td>\n",
       "      <td>0.145060</td>\n",
       "      <td>0.077617</td>\n",
       "      <td>0.047342</td>\n",
       "      <td>68.967679</td>\n",
       "    </tr>\n",
       "    <tr>\n",
       "      <th>std</th>\n",
       "      <td>5.877050</td>\n",
       "      <td>0.813604</td>\n",
       "      <td>0.503339</td>\n",
       "      <td>0.308853</td>\n",
       "      <td>0.186731</td>\n",
       "      <td>13.938165</td>\n",
       "    </tr>\n",
       "    <tr>\n",
       "      <th>min</th>\n",
       "      <td>1980.000000</td>\n",
       "      <td>0.000000</td>\n",
       "      <td>0.000000</td>\n",
       "      <td>0.000000</td>\n",
       "      <td>0.000000</td>\n",
       "      <td>13.000000</td>\n",
       "    </tr>\n",
       "    <tr>\n",
       "      <th>25%</th>\n",
       "      <td>2003.000000</td>\n",
       "      <td>0.000000</td>\n",
       "      <td>0.000000</td>\n",
       "      <td>0.000000</td>\n",
       "      <td>0.000000</td>\n",
       "      <td>60.000000</td>\n",
       "    </tr>\n",
       "    <tr>\n",
       "      <th>50%</th>\n",
       "      <td>2007.000000</td>\n",
       "      <td>0.080000</td>\n",
       "      <td>0.020000</td>\n",
       "      <td>0.000000</td>\n",
       "      <td>0.010000</td>\n",
       "      <td>71.000000</td>\n",
       "    </tr>\n",
       "    <tr>\n",
       "      <th>75%</th>\n",
       "      <td>2010.000000</td>\n",
       "      <td>0.240000</td>\n",
       "      <td>0.110000</td>\n",
       "      <td>0.040000</td>\n",
       "      <td>0.030000</td>\n",
       "      <td>79.000000</td>\n",
       "    </tr>\n",
       "    <tr>\n",
       "      <th>max</th>\n",
       "      <td>2016.000000</td>\n",
       "      <td>41.360000</td>\n",
       "      <td>28.960000</td>\n",
       "      <td>10.220000</td>\n",
       "      <td>10.570000</td>\n",
       "      <td>98.000000</td>\n",
       "    </tr>\n",
       "  </tbody>\n",
       "</table>\n",
       "</div>"
      ],
      "text/plain": [
       "       Year_of_Release      NA_sales      EU_sales      JP_sales  \\\n",
       "count     16446.000000  16715.000000  16715.000000  16715.000000   \n",
       "mean       2006.484616      0.263377      0.145060      0.077617   \n",
       "std           5.877050      0.813604      0.503339      0.308853   \n",
       "min        1980.000000      0.000000      0.000000      0.000000   \n",
       "25%        2003.000000      0.000000      0.000000      0.000000   \n",
       "50%        2007.000000      0.080000      0.020000      0.000000   \n",
       "75%        2010.000000      0.240000      0.110000      0.040000   \n",
       "max        2016.000000     41.360000     28.960000     10.220000   \n",
       "\n",
       "        Other_sales  Critic_Score  \n",
       "count  16715.000000   8137.000000  \n",
       "mean       0.047342     68.967679  \n",
       "std        0.186731     13.938165  \n",
       "min        0.000000     13.000000  \n",
       "25%        0.000000     60.000000  \n",
       "50%        0.010000     71.000000  \n",
       "75%        0.030000     79.000000  \n",
       "max       10.570000     98.000000  "
      ]
     },
     "execution_count": 4,
     "metadata": {},
     "output_type": "execute_result"
    }
   ],
   "source": [
    "# Obtener la información  y descripción general sobre nuestros datos\n",
    "df.info()\n",
    "print()\n",
    "print()\n",
    "df.describe()"
   ]
  },
  {
   "cell_type": "markdown",
   "metadata": {},
   "source": [
    "#  2. Preparación de los datos. \n"
   ]
  },
  {
   "cell_type": "markdown",
   "metadata": {},
   "source": [
    "#  2.1 Reemplazo de los nombres de las columnas. \n"
   ]
  },
  {
   "cell_type": "code",
   "execution_count": 5,
   "metadata": {},
   "outputs": [],
   "source": [
    "df.columns = df.columns.str.lower()"
   ]
  },
  {
   "cell_type": "code",
   "execution_count": 6,
   "metadata": {},
   "outputs": [
    {
     "name": "stdout",
     "output_type": "stream",
     "text": [
      "<class 'pandas.core.frame.DataFrame'>\n",
      "RangeIndex: 16715 entries, 0 to 16714\n",
      "Data columns (total 11 columns):\n",
      " #   Column           Non-Null Count  Dtype  \n",
      "---  ------           --------------  -----  \n",
      " 0   name             16713 non-null  object \n",
      " 1   platform         16715 non-null  object \n",
      " 2   year_of_release  16446 non-null  float64\n",
      " 3   genre            16713 non-null  object \n",
      " 4   na_sales         16715 non-null  float64\n",
      " 5   eu_sales         16715 non-null  float64\n",
      " 6   jp_sales         16715 non-null  float64\n",
      " 7   other_sales      16715 non-null  float64\n",
      " 8   critic_score     8137 non-null   float64\n",
      " 9   user_score       10014 non-null  object \n",
      " 10  rating           9949 non-null   object \n",
      "dtypes: float64(6), object(5)\n",
      "memory usage: 1.4+ MB\n",
      "\n",
      "\n"
     ]
    },
    {
     "data": {
      "text/html": [
       "<div>\n",
       "<style scoped>\n",
       "    .dataframe tbody tr th:only-of-type {\n",
       "        vertical-align: middle;\n",
       "    }\n",
       "\n",
       "    .dataframe tbody tr th {\n",
       "        vertical-align: top;\n",
       "    }\n",
       "\n",
       "    .dataframe thead th {\n",
       "        text-align: right;\n",
       "    }\n",
       "</style>\n",
       "<table border=\"1\" class=\"dataframe\">\n",
       "  <thead>\n",
       "    <tr style=\"text-align: right;\">\n",
       "      <th></th>\n",
       "      <th>name</th>\n",
       "      <th>platform</th>\n",
       "      <th>year_of_release</th>\n",
       "      <th>genre</th>\n",
       "      <th>na_sales</th>\n",
       "      <th>eu_sales</th>\n",
       "      <th>jp_sales</th>\n",
       "      <th>other_sales</th>\n",
       "      <th>critic_score</th>\n",
       "      <th>user_score</th>\n",
       "      <th>rating</th>\n",
       "    </tr>\n",
       "  </thead>\n",
       "  <tbody>\n",
       "    <tr>\n",
       "      <th>0</th>\n",
       "      <td>Wii Sports</td>\n",
       "      <td>Wii</td>\n",
       "      <td>2006.0</td>\n",
       "      <td>Sports</td>\n",
       "      <td>41.36</td>\n",
       "      <td>28.96</td>\n",
       "      <td>3.77</td>\n",
       "      <td>8.45</td>\n",
       "      <td>76.0</td>\n",
       "      <td>8</td>\n",
       "      <td>E</td>\n",
       "    </tr>\n",
       "    <tr>\n",
       "      <th>1</th>\n",
       "      <td>Super Mario Bros.</td>\n",
       "      <td>NES</td>\n",
       "      <td>1985.0</td>\n",
       "      <td>Platform</td>\n",
       "      <td>29.08</td>\n",
       "      <td>3.58</td>\n",
       "      <td>6.81</td>\n",
       "      <td>0.77</td>\n",
       "      <td>NaN</td>\n",
       "      <td>NaN</td>\n",
       "      <td>NaN</td>\n",
       "    </tr>\n",
       "    <tr>\n",
       "      <th>2</th>\n",
       "      <td>Mario Kart Wii</td>\n",
       "      <td>Wii</td>\n",
       "      <td>2008.0</td>\n",
       "      <td>Racing</td>\n",
       "      <td>15.68</td>\n",
       "      <td>12.76</td>\n",
       "      <td>3.79</td>\n",
       "      <td>3.29</td>\n",
       "      <td>82.0</td>\n",
       "      <td>8.3</td>\n",
       "      <td>E</td>\n",
       "    </tr>\n",
       "    <tr>\n",
       "      <th>3</th>\n",
       "      <td>Wii Sports Resort</td>\n",
       "      <td>Wii</td>\n",
       "      <td>2009.0</td>\n",
       "      <td>Sports</td>\n",
       "      <td>15.61</td>\n",
       "      <td>10.93</td>\n",
       "      <td>3.28</td>\n",
       "      <td>2.95</td>\n",
       "      <td>80.0</td>\n",
       "      <td>8</td>\n",
       "      <td>E</td>\n",
       "    </tr>\n",
       "    <tr>\n",
       "      <th>4</th>\n",
       "      <td>Pokemon Red/Pokemon Blue</td>\n",
       "      <td>GB</td>\n",
       "      <td>1996.0</td>\n",
       "      <td>Role-Playing</td>\n",
       "      <td>11.27</td>\n",
       "      <td>8.89</td>\n",
       "      <td>10.22</td>\n",
       "      <td>1.00</td>\n",
       "      <td>NaN</td>\n",
       "      <td>NaN</td>\n",
       "      <td>NaN</td>\n",
       "    </tr>\n",
       "  </tbody>\n",
       "</table>\n",
       "</div>"
      ],
      "text/plain": [
       "                       name platform  year_of_release         genre  na_sales  \\\n",
       "0                Wii Sports      Wii           2006.0        Sports     41.36   \n",
       "1         Super Mario Bros.      NES           1985.0      Platform     29.08   \n",
       "2            Mario Kart Wii      Wii           2008.0        Racing     15.68   \n",
       "3         Wii Sports Resort      Wii           2009.0        Sports     15.61   \n",
       "4  Pokemon Red/Pokemon Blue       GB           1996.0  Role-Playing     11.27   \n",
       "\n",
       "   eu_sales  jp_sales  other_sales  critic_score user_score rating  \n",
       "0     28.96      3.77         8.45          76.0          8      E  \n",
       "1      3.58      6.81         0.77           NaN        NaN    NaN  \n",
       "2     12.76      3.79         3.29          82.0        8.3      E  \n",
       "3     10.93      3.28         2.95          80.0          8      E  \n",
       "4      8.89     10.22         1.00           NaN        NaN    NaN  "
      ]
     },
     "execution_count": 6,
     "metadata": {},
     "output_type": "execute_result"
    }
   ],
   "source": [
    "#Comprobación del cambio \n",
    "df.info()\n",
    "print()\n",
    "print()\n",
    "df.head()"
   ]
  },
  {
   "cell_type": "markdown",
   "metadata": {},
   "source": [
    "# 2.2 Convertir los datos en los tipos necesarios"
   ]
  },
  {
   "cell_type": "code",
   "execution_count": 7,
   "metadata": {
    "scrolled": true
   },
   "outputs": [
    {
     "name": "stdout",
     "output_type": "stream",
     "text": [
      "name                  2\n",
      "platform              0\n",
      "year_of_release     269\n",
      "genre                 2\n",
      "na_sales              0\n",
      "eu_sales              0\n",
      "jp_sales              0\n",
      "other_sales           0\n",
      "critic_score       8578\n",
      "user_score         6701\n",
      "rating             6766\n",
      "dtype: int64\n"
     ]
    }
   ],
   "source": [
    "#comprobar los valores  ausentes \n",
    "mis_val = df.isna().sum()\n",
    "print(mis_val)"
   ]
  },
  {
   "cell_type": "code",
   "execution_count": 8,
   "metadata": {},
   "outputs": [],
   "source": [
    "#Convertir los datos en el tipo necesario. \n",
    "\n",
    "# Eliminar filas donde 'year_of_release' es NaN\n",
    "df = df.dropna(subset=['year_of_release'])\n",
    "\n",
    "# Convertir 'year_of_release' a entero\n",
    "df['year_of_release'] = df['year_of_release'].astype(int)\n",
    "\n",
    "# Convertir a formato de año (esto convertirá los enteros a datetime)\n",
    "df['year_of_release'] = pd.to_datetime(df['year_of_release'], format='%Y')\n",
    "\n",
    "# Extraer solo el año y guardarlo como un entero\n",
    "df['year_of_release'] = df['year_of_release'].dt.year\n",
    "\n",
    "\n",
    "# Convertir 'user_score' a número\n",
    "df['user_score']=pd.to_numeric(df['user_score'], errors='coerce') # El 'errors=coerce' en este caso convertira los valores no válidos a NaN. \n",
    "df['user_score'] = df['user_score'].fillna(0)\n",
    "\n",
    "df['rating'] = df['rating'].fillna('TBD')\n",
    "df['critic_score'] =df['critic_score'].fillna('TBD')"
   ]
  },
  {
   "cell_type": "markdown",
   "metadata": {},
   "source": [
    "<div class=\"alert alert-block alert-info\">\n",
    "    <b>Comentario del revisor:</b> <a class=\"tocSkip\"></a>\n",
    "    \n",
    "En ocasiones podemos completar los valores faltantes con información recaba mediante una investigación. Es muy común que cuando trabajamos con datos en la vida real, mucho de estos vengan con valores nulos que en ocasiones tendremos que completar con proxys\n",
    "</div>"
   ]
  },
  {
   "cell_type": "code",
   "execution_count": 9,
   "metadata": {},
   "outputs": [
    {
     "name": "stdout",
     "output_type": "stream",
     "text": [
      "name               2\n",
      "platform           0\n",
      "year_of_release    0\n",
      "genre              2\n",
      "na_sales           0\n",
      "eu_sales           0\n",
      "jp_sales           0\n",
      "other_sales        0\n",
      "critic_score       0\n",
      "user_score         0\n",
      "rating             0\n",
      "dtype: int64\n"
     ]
    }
   ],
   "source": [
    "#comprobación de que no haya mas valores ausentes \n",
    "\n",
    "mis_val = df.isna().sum()\n",
    "print(mis_val)"
   ]
  },
  {
   "cell_type": "code",
   "execution_count": 10,
   "metadata": {},
   "outputs": [
    {
     "name": "stdout",
     "output_type": "stream",
     "text": [
      "<class 'pandas.core.frame.DataFrame'>\n",
      "Int64Index: 16446 entries, 0 to 16714\n",
      "Data columns (total 11 columns):\n",
      " #   Column           Non-Null Count  Dtype  \n",
      "---  ------           --------------  -----  \n",
      " 0   name             16444 non-null  object \n",
      " 1   platform         16446 non-null  object \n",
      " 2   year_of_release  16446 non-null  int64  \n",
      " 3   genre            16444 non-null  object \n",
      " 4   na_sales         16446 non-null  float64\n",
      " 5   eu_sales         16446 non-null  float64\n",
      " 6   jp_sales         16446 non-null  float64\n",
      " 7   other_sales      16446 non-null  float64\n",
      " 8   critic_score     16446 non-null  object \n",
      " 9   user_score       16446 non-null  float64\n",
      " 10  rating           16446 non-null  object \n",
      "dtypes: float64(5), int64(1), object(5)\n",
      "memory usage: 1.5+ MB\n",
      "\n",
      "\n"
     ]
    },
    {
     "data": {
      "text/html": [
       "<div>\n",
       "<style scoped>\n",
       "    .dataframe tbody tr th:only-of-type {\n",
       "        vertical-align: middle;\n",
       "    }\n",
       "\n",
       "    .dataframe tbody tr th {\n",
       "        vertical-align: top;\n",
       "    }\n",
       "\n",
       "    .dataframe thead th {\n",
       "        text-align: right;\n",
       "    }\n",
       "</style>\n",
       "<table border=\"1\" class=\"dataframe\">\n",
       "  <thead>\n",
       "    <tr style=\"text-align: right;\">\n",
       "      <th></th>\n",
       "      <th>name</th>\n",
       "      <th>platform</th>\n",
       "      <th>year_of_release</th>\n",
       "      <th>genre</th>\n",
       "      <th>na_sales</th>\n",
       "      <th>eu_sales</th>\n",
       "      <th>jp_sales</th>\n",
       "      <th>other_sales</th>\n",
       "      <th>critic_score</th>\n",
       "      <th>user_score</th>\n",
       "      <th>rating</th>\n",
       "    </tr>\n",
       "  </thead>\n",
       "  <tbody>\n",
       "    <tr>\n",
       "      <th>0</th>\n",
       "      <td>Wii Sports</td>\n",
       "      <td>Wii</td>\n",
       "      <td>2006</td>\n",
       "      <td>Sports</td>\n",
       "      <td>41.36</td>\n",
       "      <td>28.96</td>\n",
       "      <td>3.77</td>\n",
       "      <td>8.45</td>\n",
       "      <td>76.0</td>\n",
       "      <td>8.0</td>\n",
       "      <td>E</td>\n",
       "    </tr>\n",
       "    <tr>\n",
       "      <th>1</th>\n",
       "      <td>Super Mario Bros.</td>\n",
       "      <td>NES</td>\n",
       "      <td>1985</td>\n",
       "      <td>Platform</td>\n",
       "      <td>29.08</td>\n",
       "      <td>3.58</td>\n",
       "      <td>6.81</td>\n",
       "      <td>0.77</td>\n",
       "      <td>TBD</td>\n",
       "      <td>0.0</td>\n",
       "      <td>TBD</td>\n",
       "    </tr>\n",
       "    <tr>\n",
       "      <th>2</th>\n",
       "      <td>Mario Kart Wii</td>\n",
       "      <td>Wii</td>\n",
       "      <td>2008</td>\n",
       "      <td>Racing</td>\n",
       "      <td>15.68</td>\n",
       "      <td>12.76</td>\n",
       "      <td>3.79</td>\n",
       "      <td>3.29</td>\n",
       "      <td>82.0</td>\n",
       "      <td>8.3</td>\n",
       "      <td>E</td>\n",
       "    </tr>\n",
       "    <tr>\n",
       "      <th>3</th>\n",
       "      <td>Wii Sports Resort</td>\n",
       "      <td>Wii</td>\n",
       "      <td>2009</td>\n",
       "      <td>Sports</td>\n",
       "      <td>15.61</td>\n",
       "      <td>10.93</td>\n",
       "      <td>3.28</td>\n",
       "      <td>2.95</td>\n",
       "      <td>80.0</td>\n",
       "      <td>8.0</td>\n",
       "      <td>E</td>\n",
       "    </tr>\n",
       "    <tr>\n",
       "      <th>4</th>\n",
       "      <td>Pokemon Red/Pokemon Blue</td>\n",
       "      <td>GB</td>\n",
       "      <td>1996</td>\n",
       "      <td>Role-Playing</td>\n",
       "      <td>11.27</td>\n",
       "      <td>8.89</td>\n",
       "      <td>10.22</td>\n",
       "      <td>1.00</td>\n",
       "      <td>TBD</td>\n",
       "      <td>0.0</td>\n",
       "      <td>TBD</td>\n",
       "    </tr>\n",
       "    <tr>\n",
       "      <th>5</th>\n",
       "      <td>Tetris</td>\n",
       "      <td>GB</td>\n",
       "      <td>1989</td>\n",
       "      <td>Puzzle</td>\n",
       "      <td>23.20</td>\n",
       "      <td>2.26</td>\n",
       "      <td>4.22</td>\n",
       "      <td>0.58</td>\n",
       "      <td>TBD</td>\n",
       "      <td>0.0</td>\n",
       "      <td>TBD</td>\n",
       "    </tr>\n",
       "    <tr>\n",
       "      <th>6</th>\n",
       "      <td>New Super Mario Bros.</td>\n",
       "      <td>DS</td>\n",
       "      <td>2006</td>\n",
       "      <td>Platform</td>\n",
       "      <td>11.28</td>\n",
       "      <td>9.14</td>\n",
       "      <td>6.50</td>\n",
       "      <td>2.88</td>\n",
       "      <td>89.0</td>\n",
       "      <td>8.5</td>\n",
       "      <td>E</td>\n",
       "    </tr>\n",
       "    <tr>\n",
       "      <th>7</th>\n",
       "      <td>Wii Play</td>\n",
       "      <td>Wii</td>\n",
       "      <td>2006</td>\n",
       "      <td>Misc</td>\n",
       "      <td>13.96</td>\n",
       "      <td>9.18</td>\n",
       "      <td>2.93</td>\n",
       "      <td>2.84</td>\n",
       "      <td>58.0</td>\n",
       "      <td>6.6</td>\n",
       "      <td>E</td>\n",
       "    </tr>\n",
       "    <tr>\n",
       "      <th>8</th>\n",
       "      <td>New Super Mario Bros. Wii</td>\n",
       "      <td>Wii</td>\n",
       "      <td>2009</td>\n",
       "      <td>Platform</td>\n",
       "      <td>14.44</td>\n",
       "      <td>6.94</td>\n",
       "      <td>4.70</td>\n",
       "      <td>2.24</td>\n",
       "      <td>87.0</td>\n",
       "      <td>8.4</td>\n",
       "      <td>E</td>\n",
       "    </tr>\n",
       "    <tr>\n",
       "      <th>9</th>\n",
       "      <td>Duck Hunt</td>\n",
       "      <td>NES</td>\n",
       "      <td>1984</td>\n",
       "      <td>Shooter</td>\n",
       "      <td>26.93</td>\n",
       "      <td>0.63</td>\n",
       "      <td>0.28</td>\n",
       "      <td>0.47</td>\n",
       "      <td>TBD</td>\n",
       "      <td>0.0</td>\n",
       "      <td>TBD</td>\n",
       "    </tr>\n",
       "    <tr>\n",
       "      <th>10</th>\n",
       "      <td>Nintendogs</td>\n",
       "      <td>DS</td>\n",
       "      <td>2005</td>\n",
       "      <td>Simulation</td>\n",
       "      <td>9.05</td>\n",
       "      <td>10.95</td>\n",
       "      <td>1.93</td>\n",
       "      <td>2.74</td>\n",
       "      <td>TBD</td>\n",
       "      <td>0.0</td>\n",
       "      <td>TBD</td>\n",
       "    </tr>\n",
       "    <tr>\n",
       "      <th>11</th>\n",
       "      <td>Mario Kart DS</td>\n",
       "      <td>DS</td>\n",
       "      <td>2005</td>\n",
       "      <td>Racing</td>\n",
       "      <td>9.71</td>\n",
       "      <td>7.47</td>\n",
       "      <td>4.13</td>\n",
       "      <td>1.90</td>\n",
       "      <td>91.0</td>\n",
       "      <td>8.6</td>\n",
       "      <td>E</td>\n",
       "    </tr>\n",
       "    <tr>\n",
       "      <th>12</th>\n",
       "      <td>Pokemon Gold/Pokemon Silver</td>\n",
       "      <td>GB</td>\n",
       "      <td>1999</td>\n",
       "      <td>Role-Playing</td>\n",
       "      <td>9.00</td>\n",
       "      <td>6.18</td>\n",
       "      <td>7.20</td>\n",
       "      <td>0.71</td>\n",
       "      <td>TBD</td>\n",
       "      <td>0.0</td>\n",
       "      <td>TBD</td>\n",
       "    </tr>\n",
       "    <tr>\n",
       "      <th>13</th>\n",
       "      <td>Wii Fit</td>\n",
       "      <td>Wii</td>\n",
       "      <td>2007</td>\n",
       "      <td>Sports</td>\n",
       "      <td>8.92</td>\n",
       "      <td>8.03</td>\n",
       "      <td>3.60</td>\n",
       "      <td>2.15</td>\n",
       "      <td>80.0</td>\n",
       "      <td>7.7</td>\n",
       "      <td>E</td>\n",
       "    </tr>\n",
       "    <tr>\n",
       "      <th>14</th>\n",
       "      <td>Kinect Adventures!</td>\n",
       "      <td>X360</td>\n",
       "      <td>2010</td>\n",
       "      <td>Misc</td>\n",
       "      <td>15.00</td>\n",
       "      <td>4.89</td>\n",
       "      <td>0.24</td>\n",
       "      <td>1.69</td>\n",
       "      <td>61.0</td>\n",
       "      <td>6.3</td>\n",
       "      <td>E</td>\n",
       "    </tr>\n",
       "    <tr>\n",
       "      <th>15</th>\n",
       "      <td>Wii Fit Plus</td>\n",
       "      <td>Wii</td>\n",
       "      <td>2009</td>\n",
       "      <td>Sports</td>\n",
       "      <td>9.01</td>\n",
       "      <td>8.49</td>\n",
       "      <td>2.53</td>\n",
       "      <td>1.77</td>\n",
       "      <td>80.0</td>\n",
       "      <td>7.4</td>\n",
       "      <td>E</td>\n",
       "    </tr>\n",
       "    <tr>\n",
       "      <th>16</th>\n",
       "      <td>Grand Theft Auto V</td>\n",
       "      <td>PS3</td>\n",
       "      <td>2013</td>\n",
       "      <td>Action</td>\n",
       "      <td>7.02</td>\n",
       "      <td>9.09</td>\n",
       "      <td>0.98</td>\n",
       "      <td>3.96</td>\n",
       "      <td>97.0</td>\n",
       "      <td>8.2</td>\n",
       "      <td>M</td>\n",
       "    </tr>\n",
       "    <tr>\n",
       "      <th>17</th>\n",
       "      <td>Grand Theft Auto: San Andreas</td>\n",
       "      <td>PS2</td>\n",
       "      <td>2004</td>\n",
       "      <td>Action</td>\n",
       "      <td>9.43</td>\n",
       "      <td>0.40</td>\n",
       "      <td>0.41</td>\n",
       "      <td>10.57</td>\n",
       "      <td>95.0</td>\n",
       "      <td>9.0</td>\n",
       "      <td>M</td>\n",
       "    </tr>\n",
       "    <tr>\n",
       "      <th>18</th>\n",
       "      <td>Super Mario World</td>\n",
       "      <td>SNES</td>\n",
       "      <td>1990</td>\n",
       "      <td>Platform</td>\n",
       "      <td>12.78</td>\n",
       "      <td>3.75</td>\n",
       "      <td>3.54</td>\n",
       "      <td>0.55</td>\n",
       "      <td>TBD</td>\n",
       "      <td>0.0</td>\n",
       "      <td>TBD</td>\n",
       "    </tr>\n",
       "    <tr>\n",
       "      <th>19</th>\n",
       "      <td>Brain Age: Train Your Brain in Minutes a Day</td>\n",
       "      <td>DS</td>\n",
       "      <td>2005</td>\n",
       "      <td>Misc</td>\n",
       "      <td>4.74</td>\n",
       "      <td>9.20</td>\n",
       "      <td>4.16</td>\n",
       "      <td>2.04</td>\n",
       "      <td>77.0</td>\n",
       "      <td>7.9</td>\n",
       "      <td>E</td>\n",
       "    </tr>\n",
       "    <tr>\n",
       "      <th>20</th>\n",
       "      <td>Pokemon Diamond/Pokemon Pearl</td>\n",
       "      <td>DS</td>\n",
       "      <td>2006</td>\n",
       "      <td>Role-Playing</td>\n",
       "      <td>6.38</td>\n",
       "      <td>4.46</td>\n",
       "      <td>6.04</td>\n",
       "      <td>1.36</td>\n",
       "      <td>TBD</td>\n",
       "      <td>0.0</td>\n",
       "      <td>TBD</td>\n",
       "    </tr>\n",
       "    <tr>\n",
       "      <th>21</th>\n",
       "      <td>Super Mario Land</td>\n",
       "      <td>GB</td>\n",
       "      <td>1989</td>\n",
       "      <td>Platform</td>\n",
       "      <td>10.83</td>\n",
       "      <td>2.71</td>\n",
       "      <td>4.18</td>\n",
       "      <td>0.42</td>\n",
       "      <td>TBD</td>\n",
       "      <td>0.0</td>\n",
       "      <td>TBD</td>\n",
       "    </tr>\n",
       "    <tr>\n",
       "      <th>22</th>\n",
       "      <td>Super Mario Bros. 3</td>\n",
       "      <td>NES</td>\n",
       "      <td>1988</td>\n",
       "      <td>Platform</td>\n",
       "      <td>9.54</td>\n",
       "      <td>3.44</td>\n",
       "      <td>3.84</td>\n",
       "      <td>0.46</td>\n",
       "      <td>TBD</td>\n",
       "      <td>0.0</td>\n",
       "      <td>TBD</td>\n",
       "    </tr>\n",
       "    <tr>\n",
       "      <th>23</th>\n",
       "      <td>Grand Theft Auto V</td>\n",
       "      <td>X360</td>\n",
       "      <td>2013</td>\n",
       "      <td>Action</td>\n",
       "      <td>9.66</td>\n",
       "      <td>5.14</td>\n",
       "      <td>0.06</td>\n",
       "      <td>1.41</td>\n",
       "      <td>97.0</td>\n",
       "      <td>8.1</td>\n",
       "      <td>M</td>\n",
       "    </tr>\n",
       "    <tr>\n",
       "      <th>24</th>\n",
       "      <td>Grand Theft Auto: Vice City</td>\n",
       "      <td>PS2</td>\n",
       "      <td>2002</td>\n",
       "      <td>Action</td>\n",
       "      <td>8.41</td>\n",
       "      <td>5.49</td>\n",
       "      <td>0.47</td>\n",
       "      <td>1.78</td>\n",
       "      <td>95.0</td>\n",
       "      <td>8.7</td>\n",
       "      <td>M</td>\n",
       "    </tr>\n",
       "    <tr>\n",
       "      <th>25</th>\n",
       "      <td>Pokemon Ruby/Pokemon Sapphire</td>\n",
       "      <td>GBA</td>\n",
       "      <td>2002</td>\n",
       "      <td>Role-Playing</td>\n",
       "      <td>6.06</td>\n",
       "      <td>3.90</td>\n",
       "      <td>5.38</td>\n",
       "      <td>0.50</td>\n",
       "      <td>TBD</td>\n",
       "      <td>0.0</td>\n",
       "      <td>TBD</td>\n",
       "    </tr>\n",
       "    <tr>\n",
       "      <th>26</th>\n",
       "      <td>Brain Age 2: More Training in Minutes a Day</td>\n",
       "      <td>DS</td>\n",
       "      <td>2005</td>\n",
       "      <td>Puzzle</td>\n",
       "      <td>3.43</td>\n",
       "      <td>5.35</td>\n",
       "      <td>5.32</td>\n",
       "      <td>1.18</td>\n",
       "      <td>77.0</td>\n",
       "      <td>7.1</td>\n",
       "      <td>E</td>\n",
       "    </tr>\n",
       "    <tr>\n",
       "      <th>27</th>\n",
       "      <td>Pokemon Black/Pokemon White</td>\n",
       "      <td>DS</td>\n",
       "      <td>2010</td>\n",
       "      <td>Role-Playing</td>\n",
       "      <td>5.51</td>\n",
       "      <td>3.17</td>\n",
       "      <td>5.65</td>\n",
       "      <td>0.80</td>\n",
       "      <td>TBD</td>\n",
       "      <td>0.0</td>\n",
       "      <td>TBD</td>\n",
       "    </tr>\n",
       "    <tr>\n",
       "      <th>28</th>\n",
       "      <td>Gran Turismo 3: A-Spec</td>\n",
       "      <td>PS2</td>\n",
       "      <td>2001</td>\n",
       "      <td>Racing</td>\n",
       "      <td>6.85</td>\n",
       "      <td>5.09</td>\n",
       "      <td>1.87</td>\n",
       "      <td>1.16</td>\n",
       "      <td>95.0</td>\n",
       "      <td>8.4</td>\n",
       "      <td>E</td>\n",
       "    </tr>\n",
       "    <tr>\n",
       "      <th>29</th>\n",
       "      <td>Call of Duty: Modern Warfare 3</td>\n",
       "      <td>X360</td>\n",
       "      <td>2011</td>\n",
       "      <td>Shooter</td>\n",
       "      <td>9.04</td>\n",
       "      <td>4.24</td>\n",
       "      <td>0.13</td>\n",
       "      <td>1.32</td>\n",
       "      <td>88.0</td>\n",
       "      <td>3.4</td>\n",
       "      <td>M</td>\n",
       "    </tr>\n",
       "  </tbody>\n",
       "</table>\n",
       "</div>"
      ],
      "text/plain": [
       "                                            name platform  year_of_release  \\\n",
       "0                                     Wii Sports      Wii             2006   \n",
       "1                              Super Mario Bros.      NES             1985   \n",
       "2                                 Mario Kart Wii      Wii             2008   \n",
       "3                              Wii Sports Resort      Wii             2009   \n",
       "4                       Pokemon Red/Pokemon Blue       GB             1996   \n",
       "5                                         Tetris       GB             1989   \n",
       "6                          New Super Mario Bros.       DS             2006   \n",
       "7                                       Wii Play      Wii             2006   \n",
       "8                      New Super Mario Bros. Wii      Wii             2009   \n",
       "9                                      Duck Hunt      NES             1984   \n",
       "10                                    Nintendogs       DS             2005   \n",
       "11                                 Mario Kart DS       DS             2005   \n",
       "12                   Pokemon Gold/Pokemon Silver       GB             1999   \n",
       "13                                       Wii Fit      Wii             2007   \n",
       "14                            Kinect Adventures!     X360             2010   \n",
       "15                                  Wii Fit Plus      Wii             2009   \n",
       "16                            Grand Theft Auto V      PS3             2013   \n",
       "17                 Grand Theft Auto: San Andreas      PS2             2004   \n",
       "18                             Super Mario World     SNES             1990   \n",
       "19  Brain Age: Train Your Brain in Minutes a Day       DS             2005   \n",
       "20                 Pokemon Diamond/Pokemon Pearl       DS             2006   \n",
       "21                              Super Mario Land       GB             1989   \n",
       "22                           Super Mario Bros. 3      NES             1988   \n",
       "23                            Grand Theft Auto V     X360             2013   \n",
       "24                   Grand Theft Auto: Vice City      PS2             2002   \n",
       "25                 Pokemon Ruby/Pokemon Sapphire      GBA             2002   \n",
       "26   Brain Age 2: More Training in Minutes a Day       DS             2005   \n",
       "27                   Pokemon Black/Pokemon White       DS             2010   \n",
       "28                        Gran Turismo 3: A-Spec      PS2             2001   \n",
       "29                Call of Duty: Modern Warfare 3     X360             2011   \n",
       "\n",
       "           genre  na_sales  eu_sales  jp_sales  other_sales critic_score  \\\n",
       "0         Sports     41.36     28.96      3.77         8.45         76.0   \n",
       "1       Platform     29.08      3.58      6.81         0.77          TBD   \n",
       "2         Racing     15.68     12.76      3.79         3.29         82.0   \n",
       "3         Sports     15.61     10.93      3.28         2.95         80.0   \n",
       "4   Role-Playing     11.27      8.89     10.22         1.00          TBD   \n",
       "5         Puzzle     23.20      2.26      4.22         0.58          TBD   \n",
       "6       Platform     11.28      9.14      6.50         2.88         89.0   \n",
       "7           Misc     13.96      9.18      2.93         2.84         58.0   \n",
       "8       Platform     14.44      6.94      4.70         2.24         87.0   \n",
       "9        Shooter     26.93      0.63      0.28         0.47          TBD   \n",
       "10    Simulation      9.05     10.95      1.93         2.74          TBD   \n",
       "11        Racing      9.71      7.47      4.13         1.90         91.0   \n",
       "12  Role-Playing      9.00      6.18      7.20         0.71          TBD   \n",
       "13        Sports      8.92      8.03      3.60         2.15         80.0   \n",
       "14          Misc     15.00      4.89      0.24         1.69         61.0   \n",
       "15        Sports      9.01      8.49      2.53         1.77         80.0   \n",
       "16        Action      7.02      9.09      0.98         3.96         97.0   \n",
       "17        Action      9.43      0.40      0.41        10.57         95.0   \n",
       "18      Platform     12.78      3.75      3.54         0.55          TBD   \n",
       "19          Misc      4.74      9.20      4.16         2.04         77.0   \n",
       "20  Role-Playing      6.38      4.46      6.04         1.36          TBD   \n",
       "21      Platform     10.83      2.71      4.18         0.42          TBD   \n",
       "22      Platform      9.54      3.44      3.84         0.46          TBD   \n",
       "23        Action      9.66      5.14      0.06         1.41         97.0   \n",
       "24        Action      8.41      5.49      0.47         1.78         95.0   \n",
       "25  Role-Playing      6.06      3.90      5.38         0.50          TBD   \n",
       "26        Puzzle      3.43      5.35      5.32         1.18         77.0   \n",
       "27  Role-Playing      5.51      3.17      5.65         0.80          TBD   \n",
       "28        Racing      6.85      5.09      1.87         1.16         95.0   \n",
       "29       Shooter      9.04      4.24      0.13         1.32         88.0   \n",
       "\n",
       "    user_score rating  \n",
       "0          8.0      E  \n",
       "1          0.0    TBD  \n",
       "2          8.3      E  \n",
       "3          8.0      E  \n",
       "4          0.0    TBD  \n",
       "5          0.0    TBD  \n",
       "6          8.5      E  \n",
       "7          6.6      E  \n",
       "8          8.4      E  \n",
       "9          0.0    TBD  \n",
       "10         0.0    TBD  \n",
       "11         8.6      E  \n",
       "12         0.0    TBD  \n",
       "13         7.7      E  \n",
       "14         6.3      E  \n",
       "15         7.4      E  \n",
       "16         8.2      M  \n",
       "17         9.0      M  \n",
       "18         0.0    TBD  \n",
       "19         7.9      E  \n",
       "20         0.0    TBD  \n",
       "21         0.0    TBD  \n",
       "22         0.0    TBD  \n",
       "23         8.1      M  \n",
       "24         8.7      M  \n",
       "25         0.0    TBD  \n",
       "26         7.1      E  \n",
       "27         0.0    TBD  \n",
       "28         8.4      E  \n",
       "29         3.4      M  "
      ]
     },
     "execution_count": 10,
     "metadata": {},
     "output_type": "execute_result"
    }
   ],
   "source": [
    "#Comprobación del cambio. \n",
    "df.info()\n",
    "print()\n",
    "print()\n",
    "df.head(30)"
   ]
  },
  {
   "cell_type": "markdown",
   "metadata": {},
   "source": [
    "<b>DESCRIPCIÓN DEL CAMBIO.</b> <a class=\"tocSkip\"></a>\n",
    "Los cambios que se realizaron en las columnas fueron a: \n",
    "1. 'year_of_release' -> Para cambiarlo a tipo date, se tuve que transformar los datos a Int para posteriormente transformarlos en el formato correspondientes. \n",
    "2. En el caso de 'user_score' -> se cambio de object a float64 y se rellenaron las espacios vacios con 'errors=coerce'. Después se lleno esos datos vacio con el valor 9, ya que NaN nos complicara el análisis de los datos. \n",
    "3. También se observo  que rating tenia valores ausente y se decidio cambiarlo por 'TBD', ya que al analizar los valores. Se observo que este tenía valores ausentes que nos podra afectar en el análisis de los datos. Una posible razón de que no los datos este vacios sea por que todavía no recibieron esa calificación o posiblemente en el año que fueron lanzados no había paramentros para darle una calificación. \n",
    "4. También se observo que critic_score tenía valores ausentes y como 'rating' se procedio hacer lo mismo. Como se explico para 'rating' tal vez en en critic_name hay valores ausentes posiblimente por que en el tiempo que se sacaron los juegos no había esa retroalimentación de los jugadores y no se les consideraba importante. \n"
   ]
  },
  {
   "cell_type": "markdown",
   "metadata": {},
   "source": [
    "# 2.3 Calculo de las ventas totales"
   ]
  },
  {
   "cell_type": "code",
   "execution_count": 11,
   "metadata": {},
   "outputs": [
    {
     "data": {
      "text/html": [
       "<div>\n",
       "<style scoped>\n",
       "    .dataframe tbody tr th:only-of-type {\n",
       "        vertical-align: middle;\n",
       "    }\n",
       "\n",
       "    .dataframe tbody tr th {\n",
       "        vertical-align: top;\n",
       "    }\n",
       "\n",
       "    .dataframe thead th {\n",
       "        text-align: right;\n",
       "    }\n",
       "</style>\n",
       "<table border=\"1\" class=\"dataframe\">\n",
       "  <thead>\n",
       "    <tr style=\"text-align: right;\">\n",
       "      <th></th>\n",
       "      <th>name</th>\n",
       "      <th>platform</th>\n",
       "      <th>year_of_release</th>\n",
       "      <th>genre</th>\n",
       "      <th>na_sales</th>\n",
       "      <th>eu_sales</th>\n",
       "      <th>jp_sales</th>\n",
       "      <th>other_sales</th>\n",
       "      <th>critic_score</th>\n",
       "      <th>user_score</th>\n",
       "      <th>rating</th>\n",
       "      <th>total_sales</th>\n",
       "    </tr>\n",
       "  </thead>\n",
       "  <tbody>\n",
       "    <tr>\n",
       "      <th>0</th>\n",
       "      <td>Wii Sports</td>\n",
       "      <td>Wii</td>\n",
       "      <td>2006</td>\n",
       "      <td>Sports</td>\n",
       "      <td>41.36</td>\n",
       "      <td>28.96</td>\n",
       "      <td>3.77</td>\n",
       "      <td>8.45</td>\n",
       "      <td>76.0</td>\n",
       "      <td>8.0</td>\n",
       "      <td>E</td>\n",
       "      <td>82.54</td>\n",
       "    </tr>\n",
       "    <tr>\n",
       "      <th>1</th>\n",
       "      <td>Super Mario Bros.</td>\n",
       "      <td>NES</td>\n",
       "      <td>1985</td>\n",
       "      <td>Platform</td>\n",
       "      <td>29.08</td>\n",
       "      <td>3.58</td>\n",
       "      <td>6.81</td>\n",
       "      <td>0.77</td>\n",
       "      <td>TBD</td>\n",
       "      <td>0.0</td>\n",
       "      <td>TBD</td>\n",
       "      <td>40.24</td>\n",
       "    </tr>\n",
       "    <tr>\n",
       "      <th>2</th>\n",
       "      <td>Mario Kart Wii</td>\n",
       "      <td>Wii</td>\n",
       "      <td>2008</td>\n",
       "      <td>Racing</td>\n",
       "      <td>15.68</td>\n",
       "      <td>12.76</td>\n",
       "      <td>3.79</td>\n",
       "      <td>3.29</td>\n",
       "      <td>82.0</td>\n",
       "      <td>8.3</td>\n",
       "      <td>E</td>\n",
       "      <td>35.52</td>\n",
       "    </tr>\n",
       "    <tr>\n",
       "      <th>3</th>\n",
       "      <td>Wii Sports Resort</td>\n",
       "      <td>Wii</td>\n",
       "      <td>2009</td>\n",
       "      <td>Sports</td>\n",
       "      <td>15.61</td>\n",
       "      <td>10.93</td>\n",
       "      <td>3.28</td>\n",
       "      <td>2.95</td>\n",
       "      <td>80.0</td>\n",
       "      <td>8.0</td>\n",
       "      <td>E</td>\n",
       "      <td>32.77</td>\n",
       "    </tr>\n",
       "    <tr>\n",
       "      <th>4</th>\n",
       "      <td>Pokemon Red/Pokemon Blue</td>\n",
       "      <td>GB</td>\n",
       "      <td>1996</td>\n",
       "      <td>Role-Playing</td>\n",
       "      <td>11.27</td>\n",
       "      <td>8.89</td>\n",
       "      <td>10.22</td>\n",
       "      <td>1.00</td>\n",
       "      <td>TBD</td>\n",
       "      <td>0.0</td>\n",
       "      <td>TBD</td>\n",
       "      <td>31.38</td>\n",
       "    </tr>\n",
       "    <tr>\n",
       "      <th>5</th>\n",
       "      <td>Tetris</td>\n",
       "      <td>GB</td>\n",
       "      <td>1989</td>\n",
       "      <td>Puzzle</td>\n",
       "      <td>23.20</td>\n",
       "      <td>2.26</td>\n",
       "      <td>4.22</td>\n",
       "      <td>0.58</td>\n",
       "      <td>TBD</td>\n",
       "      <td>0.0</td>\n",
       "      <td>TBD</td>\n",
       "      <td>30.26</td>\n",
       "    </tr>\n",
       "    <tr>\n",
       "      <th>6</th>\n",
       "      <td>New Super Mario Bros.</td>\n",
       "      <td>DS</td>\n",
       "      <td>2006</td>\n",
       "      <td>Platform</td>\n",
       "      <td>11.28</td>\n",
       "      <td>9.14</td>\n",
       "      <td>6.50</td>\n",
       "      <td>2.88</td>\n",
       "      <td>89.0</td>\n",
       "      <td>8.5</td>\n",
       "      <td>E</td>\n",
       "      <td>29.80</td>\n",
       "    </tr>\n",
       "    <tr>\n",
       "      <th>7</th>\n",
       "      <td>Wii Play</td>\n",
       "      <td>Wii</td>\n",
       "      <td>2006</td>\n",
       "      <td>Misc</td>\n",
       "      <td>13.96</td>\n",
       "      <td>9.18</td>\n",
       "      <td>2.93</td>\n",
       "      <td>2.84</td>\n",
       "      <td>58.0</td>\n",
       "      <td>6.6</td>\n",
       "      <td>E</td>\n",
       "      <td>28.91</td>\n",
       "    </tr>\n",
       "    <tr>\n",
       "      <th>8</th>\n",
       "      <td>New Super Mario Bros. Wii</td>\n",
       "      <td>Wii</td>\n",
       "      <td>2009</td>\n",
       "      <td>Platform</td>\n",
       "      <td>14.44</td>\n",
       "      <td>6.94</td>\n",
       "      <td>4.70</td>\n",
       "      <td>2.24</td>\n",
       "      <td>87.0</td>\n",
       "      <td>8.4</td>\n",
       "      <td>E</td>\n",
       "      <td>28.32</td>\n",
       "    </tr>\n",
       "    <tr>\n",
       "      <th>9</th>\n",
       "      <td>Duck Hunt</td>\n",
       "      <td>NES</td>\n",
       "      <td>1984</td>\n",
       "      <td>Shooter</td>\n",
       "      <td>26.93</td>\n",
       "      <td>0.63</td>\n",
       "      <td>0.28</td>\n",
       "      <td>0.47</td>\n",
       "      <td>TBD</td>\n",
       "      <td>0.0</td>\n",
       "      <td>TBD</td>\n",
       "      <td>28.31</td>\n",
       "    </tr>\n",
       "  </tbody>\n",
       "</table>\n",
       "</div>"
      ],
      "text/plain": [
       "                        name platform  year_of_release         genre  \\\n",
       "0                 Wii Sports      Wii             2006        Sports   \n",
       "1          Super Mario Bros.      NES             1985      Platform   \n",
       "2             Mario Kart Wii      Wii             2008        Racing   \n",
       "3          Wii Sports Resort      Wii             2009        Sports   \n",
       "4   Pokemon Red/Pokemon Blue       GB             1996  Role-Playing   \n",
       "5                     Tetris       GB             1989        Puzzle   \n",
       "6      New Super Mario Bros.       DS             2006      Platform   \n",
       "7                   Wii Play      Wii             2006          Misc   \n",
       "8  New Super Mario Bros. Wii      Wii             2009      Platform   \n",
       "9                  Duck Hunt      NES             1984       Shooter   \n",
       "\n",
       "   na_sales  eu_sales  jp_sales  other_sales critic_score  user_score rating  \\\n",
       "0     41.36     28.96      3.77         8.45         76.0         8.0      E   \n",
       "1     29.08      3.58      6.81         0.77          TBD         0.0    TBD   \n",
       "2     15.68     12.76      3.79         3.29         82.0         8.3      E   \n",
       "3     15.61     10.93      3.28         2.95         80.0         8.0      E   \n",
       "4     11.27      8.89     10.22         1.00          TBD         0.0    TBD   \n",
       "5     23.20      2.26      4.22         0.58          TBD         0.0    TBD   \n",
       "6     11.28      9.14      6.50         2.88         89.0         8.5      E   \n",
       "7     13.96      9.18      2.93         2.84         58.0         6.6      E   \n",
       "8     14.44      6.94      4.70         2.24         87.0         8.4      E   \n",
       "9     26.93      0.63      0.28         0.47          TBD         0.0    TBD   \n",
       "\n",
       "   total_sales  \n",
       "0        82.54  \n",
       "1        40.24  \n",
       "2        35.52  \n",
       "3        32.77  \n",
       "4        31.38  \n",
       "5        30.26  \n",
       "6        29.80  \n",
       "7        28.91  \n",
       "8        28.32  \n",
       "9        28.31  "
      ]
     },
     "execution_count": 11,
     "metadata": {},
     "output_type": "execute_result"
    }
   ],
   "source": [
    "#Suma de las ventas totales en las regiones marcadas \n",
    "df['total_sales']= df[['na_sales', 'eu_sales', 'jp_sales', 'other_sales']].sum(axis=1)\n",
    "\n",
    "\n",
    "# Se verificara el resultado \n",
    "df.head(10)"
   ]
  },
  {
   "cell_type": "markdown",
   "metadata": {},
   "source": [
    "<div class=\"alert alert-block alert-success\">\n",
    "<b>Comentario del revisor:</b> <a class=\"tocSkip\"></a>\n",
    "    \n",
    "Hola! Muy buen trabajo en la sección, ajustaste los nombres de las columnas a minúsculas con el uso de la función str.lower(), cambiaste el tipo de variable de dos de las variables de la base de datos, consideraste ajustar los valores ausentes de las variables identificadas de score y muy buen trabajo con la suma de todas las ventas. \n",
    "    \n",
    "   \n",
    "\n",
    "</div>"
   ]
  },
  {
   "cell_type": "markdown",
   "metadata": {},
   "source": [
    "# 3 Analiza los datos.\n"
   ]
  },
  {
   "cell_type": "markdown",
   "metadata": {},
   "source": [
    "# 3.1 Contar el número de juegos lanzados por año"
   ]
  },
  {
   "cell_type": "code",
   "execution_count": 12,
   "metadata": {
    "scrolled": false
   },
   "outputs": [
    {
     "name": "stdout",
     "output_type": "stream",
     "text": [
      "1980       9\n",
      "1981      46\n",
      "1982      36\n",
      "1983      17\n",
      "1984      14\n",
      "1985      14\n",
      "1986      21\n",
      "1987      16\n",
      "1988      15\n",
      "1989      17\n",
      "1990      16\n",
      "1991      41\n",
      "1992      43\n",
      "1993      62\n",
      "1994     121\n",
      "1995     219\n",
      "1996     263\n",
      "1997     289\n",
      "1998     379\n",
      "1999     338\n",
      "2000     350\n",
      "2001     482\n",
      "2002     829\n",
      "2003     775\n",
      "2004     762\n",
      "2005     939\n",
      "2006    1006\n",
      "2007    1197\n",
      "2008    1427\n",
      "2009    1426\n",
      "2010    1255\n",
      "2011    1136\n",
      "2012     653\n",
      "2013     544\n",
      "2014     581\n",
      "2015     606\n",
      "2016     502\n",
      "Name: year_of_release, dtype: int64\n",
      "\n",
      "-----------------------------------------------------------------------------------------------------------\n"
     ]
    },
    {
     "data": {
      "image/png": "[encoded data removed]",
      "text/plain": [
       "<Figure size 1200x600 with 1 Axes>"
      ]
     },
     "metadata": {},
     "output_type": "display_data"
    }
   ],
   "source": [
    "#Se contaran el número de los juegos lanzados \n",
    "games_per_year = df['year_of_release'].value_counts().sort_index()\n",
    "\n",
    "print(games_per_year)\n",
    "print()\n",
    "print('-----------------------------------------------------------------------------------------------------------')\n",
    "#Se realizó una grafica para observar el comportamiento\n",
    "\n",
    "plt.figure(figsize=(12, 6))\n",
    "\n",
    "games_per_year.plot(kind='bar',\n",
    "                    xlabel='Año de lanzamiento',\n",
    "                    ylabel='Número de juegos',\n",
    "                    title='Números de juegos lanzados por año')\n",
    "plt.legend()\n",
    "plt.show()"
   ]
  },
  {
   "cell_type": "markdown",
   "metadata": {},
   "source": [
    "Son significativos los datos que arrojan la gráfica, ya que nos da un panorama de como estuvieran las ventas de ICE y como esto se fueron incremeto al pasar del tiempo. También nos da un perspectiva de que en 2008 a 2010 tuvieron un pico grande de ventas y este disminuyo a los siguientes años. \n",
    "Se debe analizar por que hubo una reducción en su venta, posiblmente sea por factores externos de que la nueva generación no este interesada como antes en los videojuegos "
   ]
  },
  {
   "cell_type": "markdown",
   "metadata": {},
   "source": [
    "# 3.2  Variación de ventas entre plataformas"
   ]
  },
  {
   "cell_type": "code",
   "execution_count": 13,
   "metadata": {},
   "outputs": [
    {
     "name": "stdout",
     "output_type": "stream",
     "text": [
      "platform\n",
      "PS2     1233.56\n",
      "X360     961.24\n",
      "PS3      931.34\n",
      "Wii      891.18\n",
      "DS       802.78\n",
      "PS       727.58\n",
      "PS4      314.14\n",
      "GBA      312.88\n",
      "PSP      289.53\n",
      "3DS      257.81\n",
      "PC       255.76\n",
      "GB       254.43\n",
      "XB       251.57\n",
      "NES      251.05\n",
      "N64      218.01\n",
      "SNES     200.04\n",
      "GC       196.73\n",
      "XOne     159.32\n",
      "2600      86.48\n",
      "WiiU      82.19\n",
      "PSV       53.81\n",
      "SAT       33.59\n",
      "GEN       30.77\n",
      "DC        15.95\n",
      "SCD        1.86\n",
      "NG         1.44\n",
      "WS         1.42\n",
      "TG16       0.16\n",
      "3DO        0.10\n",
      "GG         0.04\n",
      "PCFX       0.03\n",
      "Name: total_sales, dtype: float64\n",
      "\n",
      "-----------------------------------------------------------------------------------------------------------\n"
     ]
    },
    {
     "data": {
      "image/png": "[encoded data removed]",
      "text/plain": [
       "<Figure size 1200x600 with 1 Axes>"
      ]
     },
     "metadata": {},
     "output_type": "display_data"
    }
   ],
   "source": [
    "#Sumar ventas totales por plataforma\n",
    "sales_per_platform = df.groupby('platform')['total_sales'].sum().sort_values(ascending=False)\n",
    "\n",
    "print(sales_per_platform)\n",
    "print()\n",
    "print('-----------------------------------------------------------------------------------------------------------')\n",
    "\n",
    "plt.figure(figsize=(12, 6))\n",
    "\n",
    "sales_per_platform.plot(kind='bar',\n",
    "                    xlabel='Ventas totales',\n",
    "                    ylabel='Plataforma',\n",
    "                    title='Ventas entre plataformas')\n",
    "plt.legend()\n",
    "plt.show()"
   ]
  },
  {
   "cell_type": "markdown",
   "metadata": {},
   "source": [
    "Con los datos que se obtuvieron, se dicidio hacer una gráfica para poder visualizar de mejor manera las ventas que hay entre las plataformas. Se logra apreciar de que la plataforma PS2 obtuvo las mejores ventas en todos los países, esto puede significar que tuvo una buena recepción entre los clientes. También cabe destacar que hay 5 plataformas más con ventas representativas, no tanto como PS2, y hay 7 plaaformas que no hay logrado una venta significativa. \n",
    "Posiblemente esto se deba el tiempo que lleva el PS2 en el mercado y acomparación de las otras plataformas que posiblemente lleven menos de 2 años en venta en el mercado. "
   ]
  },
  {
   "cell_type": "markdown",
   "metadata": {},
   "source": [
    "# 3.2.1. Distribución de ventas por año"
   ]
  },
  {
   "cell_type": "code",
   "execution_count": 14,
   "metadata": {},
   "outputs": [
    {
     "name": "stdout",
     "output_type": "stream",
     "text": [
      "platform          2600   3DO    3DS    DC      DS     GB    GBA     GC    GEN  \\\n",
      "year_of_release                                                                 \n",
      "1980             11.38   NaN    NaN   NaN     NaN    NaN    NaN    NaN    NaN   \n",
      "1981             35.68   NaN    NaN   NaN     NaN    NaN    NaN    NaN    NaN   \n",
      "1982             28.88   NaN    NaN   NaN     NaN    NaN    NaN    NaN    NaN   \n",
      "1983              5.84   NaN    NaN   NaN     NaN    NaN    NaN    NaN    NaN   \n",
      "1984              0.27   NaN    NaN   NaN     NaN    NaN    NaN    NaN    NaN   \n",
      "1985              0.45   NaN    NaN   NaN    0.02    NaN    NaN    NaN    NaN   \n",
      "1986              0.67   NaN    NaN   NaN     NaN    NaN    NaN    NaN    NaN   \n",
      "1987              1.94   NaN    NaN   NaN     NaN    NaN    NaN    NaN    NaN   \n",
      "1988              0.74   NaN    NaN   NaN     NaN   1.43    NaN    NaN    NaN   \n",
      "1989              0.63   NaN    NaN   NaN     NaN  64.97    NaN    NaN    NaN   \n",
      "1990               NaN   NaN    NaN   NaN     NaN   4.89    NaN    NaN   2.60   \n",
      "1991               NaN   NaN    NaN   NaN     NaN   5.57    NaN    NaN   4.33   \n",
      "1992               NaN   NaN    NaN   NaN     NaN  25.49    NaN    NaN  12.64   \n",
      "1993               NaN   NaN    NaN   NaN     NaN    NaN    NaN    NaN   3.07   \n",
      "1994               NaN  0.02    NaN   NaN     NaN  12.18    NaN    NaN   8.13   \n",
      "1995               NaN  0.08    NaN   NaN     NaN   3.60    NaN    NaN    NaN   \n",
      "1996               NaN   NaN    NaN   NaN     NaN  36.03    NaN    NaN    NaN   \n",
      "1997               NaN   NaN    NaN   NaN     NaN   6.37    NaN    NaN    NaN   \n",
      "1998               NaN   NaN    NaN  3.38     NaN  26.90    NaN    NaN    NaN   \n",
      "1999               NaN   NaN    NaN  5.16     NaN  38.00    NaN    NaN    NaN   \n",
      "2000               NaN   NaN    NaN  5.99     NaN  19.76   0.07    NaN    NaN   \n",
      "2001               NaN   NaN    NaN  1.07     NaN   9.24  61.53  26.34    NaN   \n",
      "2002               NaN   NaN    NaN  0.29     NaN    NaN  74.16  51.81    NaN   \n",
      "2003               NaN   NaN    NaN   NaN     NaN    NaN  56.67  50.61    NaN   \n",
      "2004               NaN   NaN    NaN   NaN   17.27    NaN  77.91  28.82    NaN   \n",
      "2005               NaN   NaN    NaN   NaN  130.14    NaN  33.86  27.62    NaN   \n",
      "2006               NaN   NaN    NaN   NaN  119.81    NaN   5.28  11.26    NaN   \n",
      "2007               NaN   NaN    NaN  0.02  146.94    NaN   3.40   0.27    NaN   \n",
      "2008               NaN   NaN    NaN  0.04  145.31    NaN    NaN    NaN    NaN   \n",
      "2009               NaN   NaN    NaN   NaN  119.54    NaN    NaN    NaN    NaN   \n",
      "2010               NaN   NaN    NaN   NaN   85.02    NaN    NaN    NaN    NaN   \n",
      "2011               NaN   NaN  63.20   NaN   26.18    NaN    NaN    NaN    NaN   \n",
      "2012               NaN   NaN  51.36   NaN   11.01    NaN    NaN    NaN    NaN   \n",
      "2013               NaN   NaN  56.57   NaN    1.54    NaN    NaN    NaN    NaN   \n",
      "2014               NaN   NaN  43.76   NaN     NaN    NaN    NaN    NaN    NaN   \n",
      "2015               NaN   NaN  27.78   NaN     NaN    NaN    NaN    NaN    NaN   \n",
      "2016               NaN   NaN  15.14   NaN     NaN    NaN    NaN    NaN    NaN   \n",
      "\n",
      "platform           GG  ...    SAT   SCD   SNES  TG16    WS     Wii   WiiU  \\\n",
      "year_of_release        ...                                                  \n",
      "1980              NaN  ...    NaN   NaN    NaN   NaN   NaN     NaN    NaN   \n",
      "1981              NaN  ...    NaN   NaN    NaN   NaN   NaN     NaN    NaN   \n",
      "1982              NaN  ...    NaN   NaN    NaN   NaN   NaN     NaN    NaN   \n",
      "1983              NaN  ...    NaN   NaN    NaN   NaN   NaN     NaN    NaN   \n",
      "1984              NaN  ...    NaN   NaN    NaN   NaN   NaN     NaN    NaN   \n",
      "1985              NaN  ...    NaN   NaN    NaN   NaN   NaN     NaN    NaN   \n",
      "1986              NaN  ...    NaN   NaN    NaN   NaN   NaN     NaN    NaN   \n",
      "1987              NaN  ...    NaN   NaN    NaN   NaN   NaN     NaN    NaN   \n",
      "1988              NaN  ...    NaN   NaN    NaN   NaN   NaN     NaN    NaN   \n",
      "1989              NaN  ...    NaN   NaN    NaN   NaN   NaN     NaN    NaN   \n",
      "1990              NaN  ...    NaN   NaN  26.15   NaN   NaN     NaN    NaN   \n",
      "1991              NaN  ...    NaN   NaN  16.22   NaN   NaN     NaN    NaN   \n",
      "1992             0.04  ...    NaN   NaN  32.98   NaN   NaN     NaN    NaN   \n",
      "1993              NaN  ...    NaN  1.50  40.02   NaN   NaN     NaN    NaN   \n",
      "1994              NaN  ...   3.65  0.36  35.08   NaN   NaN     NaN    NaN   \n",
      "1995              NaN  ...  11.57   NaN  32.20  0.16   NaN     NaN    NaN   \n",
      "1996              NaN  ...   7.69   NaN  15.92   NaN   NaN     NaN    NaN   \n",
      "1997              NaN  ...   6.77   NaN   0.99   NaN   NaN     NaN    NaN   \n",
      "1998              NaN  ...   3.82   NaN   0.22   NaN   NaN     NaN    NaN   \n",
      "1999              NaN  ...   0.09   NaN   0.26   NaN  0.46     NaN    NaN   \n",
      "2000              NaN  ...    NaN   NaN    NaN   NaN  0.68     NaN    NaN   \n",
      "2001              NaN  ...    NaN   NaN    NaN   NaN  0.28     NaN    NaN   \n",
      "2002              NaN  ...    NaN   NaN    NaN   NaN   NaN     NaN    NaN   \n",
      "2003              NaN  ...    NaN   NaN    NaN   NaN   NaN     NaN    NaN   \n",
      "2004              NaN  ...    NaN   NaN    NaN   NaN   NaN     NaN    NaN   \n",
      "2005              NaN  ...    NaN   NaN    NaN   NaN   NaN     NaN    NaN   \n",
      "2006              NaN  ...    NaN   NaN    NaN   NaN   NaN  137.15    NaN   \n",
      "2007              NaN  ...    NaN   NaN    NaN   NaN   NaN  152.77    NaN   \n",
      "2008              NaN  ...    NaN   NaN    NaN   NaN   NaN  171.32    NaN   \n",
      "2009              NaN  ...    NaN   NaN    NaN   NaN   NaN  206.97    NaN   \n",
      "2010              NaN  ...    NaN   NaN    NaN   NaN   NaN  127.95    NaN   \n",
      "2011              NaN  ...    NaN   NaN    NaN   NaN   NaN   59.65    NaN   \n",
      "2012              NaN  ...    NaN   NaN    NaN   NaN   NaN   21.71  17.56   \n",
      "2013              NaN  ...    NaN   NaN    NaN   NaN   NaN    8.59  21.65   \n",
      "2014              NaN  ...    NaN   NaN    NaN   NaN   NaN    3.75  22.03   \n",
      "2015              NaN  ...    NaN   NaN    NaN   NaN   NaN    1.14  16.35   \n",
      "2016              NaN  ...    NaN   NaN    NaN   NaN   NaN    0.18   4.60   \n",
      "\n",
      "platform           X360     XB   XOne  \n",
      "year_of_release                        \n",
      "1980                NaN    NaN    NaN  \n",
      "1981                NaN    NaN    NaN  \n",
      "1982                NaN    NaN    NaN  \n",
      "1983                NaN    NaN    NaN  \n",
      "1984                NaN    NaN    NaN  \n",
      "1985                NaN    NaN    NaN  \n",
      "1986                NaN    NaN    NaN  \n",
      "1987                NaN    NaN    NaN  \n",
      "1988                NaN    NaN    NaN  \n",
      "1989                NaN    NaN    NaN  \n",
      "1990                NaN    NaN    NaN  \n",
      "1991                NaN    NaN    NaN  \n",
      "1992                NaN    NaN    NaN  \n",
      "1993                NaN    NaN    NaN  \n",
      "1994                NaN    NaN    NaN  \n",
      "1995                NaN    NaN    NaN  \n",
      "1996                NaN    NaN    NaN  \n",
      "1997                NaN    NaN    NaN  \n",
      "1998                NaN    NaN    NaN  \n",
      "1999                NaN    NaN    NaN  \n",
      "2000                NaN   0.99    NaN  \n",
      "2001                NaN  22.26    NaN  \n",
      "2002                NaN  48.01    NaN  \n",
      "2003                NaN  55.04    NaN  \n",
      "2004                NaN  65.42    NaN  \n",
      "2005               8.25  49.08    NaN  \n",
      "2006              51.62  10.04    NaN  \n",
      "2007              95.41   0.55    NaN  \n",
      "2008             135.26   0.18    NaN  \n",
      "2009             120.29    NaN    NaN  \n",
      "2010             170.03    NaN    NaN  \n",
      "2011             143.84    NaN    NaN  \n",
      "2012              99.74    NaN    NaN  \n",
      "2013              88.58    NaN  18.96  \n",
      "2014              34.74    NaN  54.07  \n",
      "2015              11.96    NaN  60.14  \n",
      "2016               1.52    NaN  26.15  \n",
      "\n",
      "[37 rows x 31 columns]\n"
     ]
    }
   ],
   "source": [
    "# Distribución de ventas por año y plataforma\n",
    "sales_distribution_by_platform = df.groupby(['year_of_release', 'platform'])['total_sales'].sum().unstack()\n",
    "#En donde unstack va a conviertir los resultados obtenidos  en un formato más legible donde cada columna representa una plataforma.\n",
    "print(sales_distribution_by_platform)\n"
   ]
  },
  {
   "cell_type": "code",
   "execution_count": 15,
   "metadata": {},
   "outputs": [
    {
     "name": "stdout",
     "output_type": "stream",
     "text": [
      "          Primer Año de Aparición  Último Año de Aparición\n",
      "platform                                                  \n",
      "2600                         1980                     1989\n",
      "3DO                          1994                     1995\n",
      "3DS                          2011                     2016\n",
      "DC                           1998                     2008\n",
      "DS                           1985                     2013\n",
      "GB                           1988                     2001\n",
      "GBA                          2000                     2007\n",
      "GC                           2001                     2007\n",
      "GEN                          1990                     1994\n",
      "GG                           1992                     1992\n",
      "N64                          1996                     2002\n",
      "NES                          1983                     1994\n",
      "NG                           1993                     1996\n",
      "PC                           1985                     2016\n",
      "PCFX                         1996                     1996\n",
      "PS                           1994                     2003\n",
      "PS2                          2000                     2011\n",
      "PS3                          2006                     2016\n",
      "PS4                          2013                     2016\n",
      "PSP                          2004                     2015\n",
      "PSV                          2011                     2016\n",
      "SAT                          1994                     1999\n",
      "SCD                          1993                     1994\n",
      "SNES                         1990                     1999\n",
      "TG16                         1995                     1995\n",
      "WS                           1999                     2001\n",
      "Wii                          2006                     2016\n",
      "WiiU                         2012                     2016\n",
      "X360                         2005                     2016\n",
      "XB                           2000                     2008\n",
      "XOne                         2013                     2016\n"
     ]
    }
   ],
   "source": [
    "#Duración de popularidad. \n",
    "p_first_appearance = df.groupby('platform')['year_of_release'].min()\n",
    "p_last_appearance = df.groupby('platform')['year_of_release'].max()\n",
    "\n",
    "# Combinar los resultados en un solo DataFrame\n",
    "platform_lifecycle = pd.DataFrame({\n",
    "    'Primer Año de Aparición': p_first_appearance,\n",
    "    'Último Año de Aparición': p_last_appearance\n",
    "})\n",
    "\n",
    "# Imprimir la tabla resultante\n",
    "print(platform_lifecycle)\n"
   ]
  },
  {
   "cell_type": "code",
   "execution_count": 16,
   "metadata": {},
   "outputs": [
    {
     "data": {
      "image/png": "[encoded data removed]",
      "text/plain": [
       "<Figure size 1400x800 with 1 Axes>"
      ]
     },
     "metadata": {},
     "output_type": "display_data"
    }
   ],
   "source": [
    "# Configurar el estilo de la gráfica. Fuente de donde se saco la información https://seaborn.pydata.org/generated/seaborn.set_style.html\n",
    "sns.set(style='whitegrid') \n",
    "\n",
    "\n",
    "# Crear la figura y los ejes\n",
    "plt.figure(figsize=(14, 8))\n",
    "\n",
    "# Graficar cada plataforma\n",
    "for platform in sales_distribution_by_platform.columns:\n",
    "    plt.plot(sales_distribution_by_platform.index, sales_distribution_by_platform[platform], label=platform, marker='o')\n",
    "\n",
    "# Configurar etiquetas y título\n",
    "plt.xlabel('Año de Lanzamiento')\n",
    "plt.ylabel('Ventas Totales')\n",
    "plt.title('Distribución de Ventas por Año y Plataforma')\n",
    "plt.legend(title='Plataforma', bbox_to_anchor=(1.05, 1), loc='upper left')\n",
    "\n",
    "# Mostrar la gráfica\n",
    "plt.tight_layout()\n",
    "plt.show()"
   ]
  },
  {
   "cell_type": "markdown",
   "metadata": {},
   "source": [
    "<div class=\"alert alert-block alert-warning\">\n",
    "<b>Comentario del revisor</b> <a class=\"tocSkip\"></a>\n",
    "    \n",
    "Gran trabajo con el desarrollo de la gráfica. Solamente te recomendaría que intentes reducir el periodo dado que el perido actual puede resultar muy extenso. Recordemos que con base en la información la popularidad la alcanzan en los primeros años. Es por ello que con un periodo largo puede no ser posible analizar de forma clara las plataformas y videojuegos actualizados y podrías estar analizando los desactualizados. Es por ello y dado que buscamos responder qué vender en 2017 te recomendareia gráficar un periodo que no supere los 5 años.     \n",
    "\n",
    "</div>"
   ]
  },
  {
   "cell_type": "markdown",
   "metadata": {},
   "source": [
    "Como se había comentado las ventas significativas de la plataforma PS2 se debe a que salio en el año 2000 y tuvo una buena recepción con los clientes pero al ser una versión pasada de las nuevas versiones sus ventas desminuyeron considerablemente. Con el paso de las actualizaciones y con nuevas tecnologías salieron más plataformas. \n",
    "\n",
    "Tambien cabe destacar que la competencia en el mercado de consolas es feroz, con nuevas plataformas que se lanzan regularmente, algunas de las cuales logran un éxito significativo, mientras que otras no logran captar la atención del consumidor. Las plataformas que logran un gran éxito a menudo desplazan a las más antiguas en un período de 2 a 3 años, marcando el inicio de un declive en las ventas de estas últimas.\n",
    "\n",
    "En resumen, el análisis muestra que las plataformas de videojuegos generalmente tienen un ciclo de vida de entre 5 a 10 años, desde su lanzamiento hasta su desaparición del mercado. Este ciclo es impulsado tanto por la innovación tecnológica como por la respuesta del mercado, lo que subraya la importancia de las actualizaciones tecnológicas y las estrategias de marketing para mantener la relevancia de una plataforma en un mercado tan competitivo.\n",
    "\n"
   ]
  },
  {
   "cell_type": "markdown",
   "metadata": {},
   "source": [
    "# 3.3 Determinación  del período de datos relevante"
   ]
  },
  {
   "cell_type": "markdown",
   "metadata": {},
   "source": [
    "Con el análisis anterior que se hizo se determino que se utilizaría los datos entre 2014 a 2016 para construir un modelo del 2017. Debido a que son datos cercanos que nos puede favorecer al proximo análisis que se va hacer. "
   ]
  },
  {
   "cell_type": "code",
   "execution_count": 21,
   "metadata": {},
   "outputs": [
    {
     "name": "stdout",
     "output_type": "stream",
     "text": [
      "[2006 1985 2008 2009 1996 1989 1984 2005 1999 2007 2010 2013 2004 1990\n",
      " 1988 2002 2001 2011 1998 2015 2012 2014 1992 1997 1993 1994 1982 2016\n",
      " 2003 1986 2000 1995 1991 1981 1987 1980 1983]\n",
      "                              name platform  year_of_release         genre  \\\n",
      "16              Grand Theft Auto V      PS3             2013        Action   \n",
      "23              Grand Theft Auto V     X360             2013        Action   \n",
      "29  Call of Duty: Modern Warfare 3     X360             2011       Shooter   \n",
      "31       Call of Duty: Black Ops 3      PS4             2015       Shooter   \n",
      "33             Pokemon X/Pokemon Y      3DS             2013  Role-Playing   \n",
      "\n",
      "    na_sales  eu_sales  jp_sales  other_sales critic_score  user_score rating  \\\n",
      "16      7.02      9.09      0.98         3.96         97.0         8.2      M   \n",
      "23      9.66      5.14      0.06         1.41         97.0         8.1      M   \n",
      "29      9.04      4.24      0.13         1.32         88.0         3.4      M   \n",
      "31      6.03      5.86      0.36         2.38          TBD         0.0    TBD   \n",
      "33      5.28      4.19      4.35         0.78          TBD         0.0    TBD   \n",
      "\n",
      "    total_sales  \n",
      "16        21.05  \n",
      "23        16.27  \n",
      "29        14.73  \n",
      "31        14.63  \n",
      "33        14.60  \n",
      "platform       0\n",
      "total_sales    0\n",
      "dtype: int64\n",
      "(4022, 12)\n"
     ]
    }
   ],
   "source": [
    "# Verifica los valores únicos en la columna de años\n",
    "print(df['year_of_release'].unique())\n",
    "\n",
    "# Filtrar por los años deseados\n",
    "relevant_years = [2011, 2012, 2013, 2014, 2015, 2016]\n",
    "df_relevant = df[df['year_of_release'].isin(relevant_years)]\n",
    "\n",
    "# Revisar  el DataFrame después del filtro\n",
    "print(df_relevant.head())\n",
    "print(df_relevant[['platform', 'total_sales']].isnull().sum())\n",
    "print(df_relevant.shape)"
   ]
  },
  {
   "cell_type": "code",
   "execution_count": 25,
   "metadata": {},
   "outputs": [
    {
     "data": {
      "image/png": "[encoded data removed]",
      "text/plain": [
       "<Figure size 1200x600 with 1 Axes>"
      ]
     },
     "metadata": {},
     "output_type": "display_data"
    }
   ],
   "source": [
    "# Agrupar los datos por año y sumar las ventas totales\n",
    "df_grouped = df_relevant.groupby('year_of_release')['total_sales'].sum().sort_index()\n",
    "\n",
    "# Graficar las ventas totales por año\n",
    "plt.figure(figsize=(12, 6))\n",
    "df_grouped.plot(kind='bar')\n",
    "\n",
    "plt.xlabel('Año de lanzamiento')\n",
    "plt.ylabel('Ventas totales')\n",
    "plt.title('Ventas totales por año (2011-2016)')\n",
    "plt.xticks(rotation=45)\n",
    "plt.show()"
   ]
  },
  {
   "cell_type": "markdown",
   "metadata": {},
   "source": [
    "Se seleccionaron los cinco años previos a 2017 para analizar detalladamente la tendencia de ventas. La gráfica muestra que en 2011 hubo un volumen de ventas significativo, pero a partir de ese año, las ventas comenzaron a disminuir. Esta tendencia es preocupante, ya que indica una posible pérdida de interés en la compra o el consumo de estas plataformas. Con base en estos resultados, es recomendable desarrollar un nuevo modelo de ventas que permita llegar a un público más amplio e incrementar las ventas."
   ]
  },
  {
   "cell_type": "markdown",
   "metadata": {},
   "source": [
    "# 3.3.1 Análsis de las plataformas."
   ]
  },
  {
   "cell_type": "code",
   "execution_count": 26,
   "metadata": {},
   "outputs": [
    {
     "name": "stdout",
     "output_type": "stream",
     "text": [
      "platform\n",
      "PS2     1233.56\n",
      "X360     961.24\n",
      "PS3      931.34\n",
      "Wii      891.18\n",
      "DS       802.78\n",
      "PS       727.58\n",
      "PS4      314.14\n",
      "GBA      312.88\n",
      "PSP      289.53\n",
      "3DS      257.81\n",
      "Name: total_sales, dtype: float64\n"
     ]
    }
   ],
   "source": [
    "# Analizar plataformas líderes en ventas\n",
    "top_platforms = sales_per_platform.head(10)\n",
    "print(top_platforms)"
   ]
  },
  {
   "cell_type": "markdown",
   "metadata": {},
   "source": [
    "Se dicidio solo analizar las 10 plataformas con mejores ventas para analizar como fueron sus ventas al momento de salir al mercado y como fue su declive en ventas. "
   ]
  },
  {
   "cell_type": "markdown",
   "metadata": {},
   "source": [
    "# 3.3.2 Diagrama de caja para las ventas globales de todos los juegos"
   ]
  },
  {
   "cell_type": "code",
   "execution_count": 27,
   "metadata": {},
   "outputs": [
    {
     "data": {
      "text/plain": [
       "<Figure size 1200x600 with 0 Axes>"
      ]
     },
     "metadata": {},
     "output_type": "display_data"
    },
    {
     "data": {
      "image/png": "[encoded data removed]",
      "text/plain": [
       "<Figure size 750x500 with 1 Axes>"
      ]
     },
     "metadata": {},
     "output_type": "display_data"
    }
   ],
   "source": [
    "plt.figure(figsize=(12, 6))\n",
    "sns.catplot(x='platform', y='total_sales', data=df_relevant, kind = \"box\",aspect = 1.5)\n",
    "plt.title('Distribución de ventas globales por plataforma')\n",
    "plt.show()\n",
    "\n",
    "#para realizar dicha gráfica se utilizo la información proporcionada en los anteriores sprint y de la sig lectura https://interactivechaos.com/es/manual/tutorial-de-seaborn/box-plot"
   ]
  },
  {
   "cell_type": "markdown",
   "metadata": {},
   "source": [
    "<div class=\"alert alert-block alert-warning\">\n",
    "    <b>Comentario del revisor</b> <a class=\"tocSkip\"></a>\n",
    "    \n",
    "Recuerda que los graficos de box-plot nos ayudan a identificar outliers que posteriomente en el desarrollo de las pruebas de hipótesis nos servirían eliminar para que no puedan sesgar nuestros resultados. \n",
    "</div>"
   ]
  },
  {
   "cell_type": "markdown",
   "metadata": {},
   "source": [
    "En la grafica obtenida se puede apreciar que tanto la plataforma PS3 y X360 tienen una mayor variabilidad en las ventas. Pero del otro lado las plataformas más antiguas ctales como el PS4 y 3SD muestran una dispersión más controlada en las ventas. También se logra apreciar de que tanto la plataforma PSV y PSP tienen ventas bajas y consistentes. Lo que indica que no fueron populares, su tiempo en el mercado ya estaba en declive  o al momento de hacer el analisis las plataformas apenas llevaban minimo dos años cuando se recolecto los datos. \n"
   ]
  },
  {
   "cell_type": "markdown",
   "metadata": {},
   "source": [
    "# 3.4 Gráfico de dispersión "
   ]
  },
  {
   "cell_type": "markdown",
   "metadata": {},
   "source": [
    "En este caso se utilizara de ejemplo PS4 para pbservar como las criticas afectan de manera positiva o negativa la venta de una plataforma. "
   ]
  },
  {
   "cell_type": "code",
   "execution_count": 28,
   "metadata": {},
   "outputs": [
    {
     "name": "stdout",
     "output_type": "stream",
     "text": [
      "                                 name platform  year_of_release         genre  \\\n",
      "31          Call of Duty: Black Ops 3      PS4             2015       Shooter   \n",
      "42                 Grand Theft Auto V      PS4             2014        Action   \n",
      "77                            FIFA 16      PS4             2015        Sports   \n",
      "87       Star Wars Battlefront (2015)      PS4             2015       Shooter   \n",
      "92     Call of Duty: Advanced Warfare      PS4             2014       Shooter   \n",
      "...                               ...      ...              ...           ...   \n",
      "16500                     Root Letter      PS4             2016     Adventure   \n",
      "16503               Shin Hayarigami 2      PS4             2016     Adventure   \n",
      "16526                      Dungeons 2      PS4             2016  Role-Playing   \n",
      "16530         Carmageddon: Max Damage      PS4             2016        Action   \n",
      "16585   Farming 2017 - The Simulation      PS4             2016    Simulation   \n",
      "\n",
      "       na_sales  eu_sales  jp_sales  other_sales critic_score  user_score  \\\n",
      "31         6.03      5.86      0.36         2.38          TBD         0.0   \n",
      "42         3.96      6.31      0.38         1.97         97.0         8.3   \n",
      "77         1.12      6.12      0.06         1.28         82.0         4.3   \n",
      "87         2.99      3.49      0.22         1.28          TBD         0.0   \n",
      "92         2.81      3.48      0.14         1.23         83.0         5.7   \n",
      "...         ...       ...       ...          ...          ...         ...   \n",
      "16500      0.00      0.00      0.01         0.00         69.0         7.5   \n",
      "16503      0.00      0.00      0.01         0.00          TBD         0.0   \n",
      "16526      0.01      0.00      0.00         0.00         61.0         7.9   \n",
      "16530      0.01      0.00      0.00         0.00         51.0         5.5   \n",
      "16585      0.00      0.01      0.00         0.00          TBD         0.0   \n",
      "\n",
      "      rating  total_sales  \n",
      "31       TBD        14.63  \n",
      "42         M        12.62  \n",
      "77         E         8.58  \n",
      "87       TBD         7.98  \n",
      "92         M         7.66  \n",
      "...      ...          ...  \n",
      "16500    TBD         0.01  \n",
      "16503    TBD         0.01  \n",
      "16526      T         0.01  \n",
      "16530      M         0.01  \n",
      "16585    TBD         0.01  \n",
      "\n",
      "[392 rows x 12 columns]\n"
     ]
    }
   ],
   "source": [
    "#Filtrar por plataforma popular \n",
    "platform_interest = 'PS4'\n",
    "df_platform = df_relevant[df_relevant['platform'] == platform_interest]\n",
    "\n",
    "#verifiación de los datos solicitados \n",
    "print(df_platform)"
   ]
  },
  {
   "cell_type": "code",
   "execution_count": 29,
   "metadata": {},
   "outputs": [
    {
     "data": {
      "image/png": "[encoded data removed]",
      "text/plain": [
       "<Figure size 1000x600 with 1 Axes>"
      ]
     },
     "metadata": {},
     "output_type": "display_data"
    }
   ],
   "source": [
    "# reliazación de la gráfica \n",
    "plt.figure(figsize=(10,6))\n",
    "sns.scatterplot(x='user_score', y='total_sales', data=df_platform)\n",
    "plt.title(f'Relación entre reseñas de usuarios y ventas para {platform_interest}')\n",
    "plt.show()"
   ]
  },
  {
   "cell_type": "markdown",
   "metadata": {},
   "source": [
    "<div class=\"alert alert-block alert-success\">\n",
    "    <b>Comentario del revisor</b> <a class=\"tocSkip\"></a>\n",
    "    \n",
    "Muy buen trabajo con el análisis de la relación estre las scores y las ventas.  Solamnete para complementar \n",
    "</div>"
   ]
  },
  {
   "cell_type": "code",
   "execution_count": 30,
   "metadata": {},
   "outputs": [
    {
     "name": "stdout",
     "output_type": "stream",
     "text": [
      "Correlación entre reseñas y ventas: 0.11311562450852854\n"
     ]
    }
   ],
   "source": [
    "#realizar la correlacion entre la calificacion dada por los usuarios y el total de ventas\n",
    "correlacion = df_platform[['user_score','total_sales']].corr().iloc[0, 1]\n",
    "print(f'Correlación entre reseñas y ventas: {correlacion}')"
   ]
  },
  {
   "cell_type": "markdown",
   "metadata": {},
   "source": [
    "La correlación de 0.113 indica que las reseñas tienen una influencia muy débil sobre las ventas en los datos que analizaste. Esto puede llevar a reflexionar sobre la importancia de otros factores en el éxito comercial de los juegos. También esto se puede observar en la gráfica que se realizó, con esto nos confirma que el user_score no influye en la compra de un videojuego."
   ]
  },
  {
   "cell_type": "markdown",
   "metadata": {},
   "source": [
    "# 3.5 Venta de los juegos en diferentes plataformas "
   ]
  },
  {
   "cell_type": "code",
   "execution_count": 31,
   "metadata": {},
   "outputs": [
    {
     "name": "stdout",
     "output_type": "stream",
     "text": [
      "platform                       3DS    DS  PC  PS2   PS3   PS4  PSP   PSV  \\\n",
      "name                                                                       \n",
      " Beyblade Burst               0.03   NaN NaN  NaN   NaN   NaN  NaN   NaN   \n",
      " Fire Emblem Fates            1.67   NaN NaN  NaN   NaN   NaN  NaN   NaN   \n",
      " Frozen: Olaf's Quest         0.59  0.51 NaN  NaN   NaN   NaN  NaN   NaN   \n",
      " Haikyu!! Cross Team Match!   0.04   NaN NaN  NaN   NaN   NaN  NaN   NaN   \n",
      " Tales of Xillia 2             NaN   NaN NaN  NaN  0.84   NaN  NaN   NaN   \n",
      "...                            ...   ...  ..  ...   ...   ...  ...   ...   \n",
      "htoL#NiQ: The Firefly Diary    NaN   NaN NaN  NaN   NaN   NaN  NaN  0.01   \n",
      "inFAMOUS 2                     NaN   NaN NaN  NaN  1.82   NaN  NaN   NaN   \n",
      "inFAMOUS: Second Son           NaN   NaN NaN  NaN   NaN  2.79  NaN   NaN   \n",
      "thinkSMART: Chess for Kids     NaN  0.01 NaN  NaN   NaN   NaN  NaN   NaN   \n",
      "uDraw Studio: Instant Artist   NaN   NaN NaN  NaN   NaN   NaN  NaN   NaN   \n",
      "\n",
      "platform                       Wii  WiiU  X360  XOne  \n",
      "name                                                  \n",
      " Beyblade Burst                NaN   NaN   NaN   NaN  \n",
      " Fire Emblem Fates             NaN   NaN   NaN   NaN  \n",
      " Frozen: Olaf's Quest          NaN   NaN   NaN   NaN  \n",
      " Haikyu!! Cross Team Match!    NaN   NaN   NaN   NaN  \n",
      " Tales of Xillia 2             NaN   NaN   NaN   NaN  \n",
      "...                            ...   ...   ...   ...  \n",
      "htoL#NiQ: The Firefly Diary    NaN   NaN   NaN   NaN  \n",
      "inFAMOUS 2                     NaN   NaN   NaN   NaN  \n",
      "inFAMOUS: Second Son           NaN   NaN   NaN   NaN  \n",
      "thinkSMART: Chess for Kids     NaN   NaN   NaN   NaN  \n",
      "uDraw Studio: Instant Artist  0.17   NaN  0.02   NaN  \n",
      "\n",
      "[2418 rows x 12 columns]\n"
     ]
    }
   ],
   "source": [
    "# Comparar ventas de juegos en diferentes plataformas\n",
    "df_comparison = df_relevant.groupby(['name', 'platform'])['total_sales'].sum().unstack()\n",
    "print(df_comparison)"
   ]
  },
  {
   "cell_type": "markdown",
   "metadata": {},
   "source": [
    "# 3.6 Distribución general de los juegos por género\n"
   ]
  },
  {
   "cell_type": "code",
   "execution_count": 32,
   "metadata": {},
   "outputs": [
    {
     "name": "stdout",
     "output_type": "stream",
     "text": [
      "              Distribución  por genero  Distribución de ventas por genero \n",
      "Action                            1269                            0.439559\n",
      "Adventure                          410                            0.109854\n",
      "Fighting                           159                            0.420755\n",
      "Misc                               375                            0.371787\n",
      "Platform                           122                            0.726885\n",
      "Puzzle                              71                            0.138732\n",
      "Racing                             180                            0.490611\n",
      "Role-Playing                       465                            0.528237\n",
      "Shooter                            329                            1.224650\n",
      "Simulation                         136                            0.369559\n",
      "Sports                             389                            0.609640\n",
      "Strategy                           117                            0.189402\n"
     ]
    }
   ],
   "source": [
    "#Distribución de los juegos por genero\n",
    "genre_distribution = df_relevant['genre'].value_counts().sort_values()\n",
    "genre_sales = df_relevant.groupby('genre')['total_sales'].mean().sort_values(ascending=False)\n",
    "# Combinar los resultados en un solo DataFrame\n",
    "genre_analysis = pd.DataFrame({\n",
    "    'Distribución  por genero': genre_distribution,\n",
    "    'Distribución de ventas por genero ': genre_sales\n",
    "})\n",
    "\n",
    "# Imprimir la tabla resultante\n",
    "print(genre_analysis)"
   ]
  },
  {
   "cell_type": "markdown",
   "metadata": {},
   "source": [
    "Los géneros Shooter y Sports son particularmente rentables en términos de ventas promedio, mientras que el género Action domina en términos de cantidad de juegos. Los géneros Puzzle y Strategy podrían requerir atención para mejorar su rendimiento en el mercado. Este análisis sugiere que, al planificar campañas publicitarias o lanzamientos de nuevos juegos, centrar los esfuerzos en géneros como Shooter y Sports podría resultar más beneficioso."
   ]
  },
  {
   "cell_type": "markdown",
   "metadata": {},
   "source": [
    "# 4 Creación de un perfil de usuario para cada región"
   ]
  },
  {
   "cell_type": "markdown",
   "metadata": {},
   "source": [
    "# 4.1 Calculo de las plataformas consumida por región"
   ]
  },
  {
   "cell_type": "code",
   "execution_count": 33,
   "metadata": {},
   "outputs": [
    {
     "name": "stdout",
     "output_type": "stream",
     "text": [
      "Top 5 platforms in NA:\n",
      " platform\n",
      "X360    595.74\n",
      "PS2     572.92\n",
      "Wii     486.87\n",
      "PS3     390.13\n",
      "DS      380.31\n",
      "Name: na_sales, dtype: float64\n",
      "-------------------------------------------------------------------------------------------------------\n",
      "-------------------------------------------------------------------------------------------------------\n",
      "Top 5 platforms in EU:\n",
      " platform\n",
      "PS2     332.63\n",
      "PS3     327.21\n",
      "X360    268.32\n",
      "Wii     258.32\n",
      "PS      212.39\n",
      "Name: eu_sales, dtype: float64\n",
      "-------------------------------------------------------------------------------------------------------\n",
      "-------------------------------------------------------------------------------------------------------\n",
      "Top 5 platforms in JP:\n",
      " platform\n",
      "DS      175.02\n",
      "PS      139.78\n",
      "PS2     137.54\n",
      "SNES    116.55\n",
      "3DS     100.62\n",
      "Name: jp_sales, dtype: float64\n"
     ]
    }
   ],
   "source": [
    "#Las cinco plataformas principales \n",
    "top_platforms_na = df.groupby('platform')['na_sales'].sum().nlargest(5)\n",
    "top_platforms_eu = df.groupby('platform')['eu_sales'].sum().nlargest(5)\n",
    "top_platforms_jp = df.groupby('platform')['jp_sales'].sum().nlargest(5)\n",
    "\n",
    "print(\"Top 5 platforms in NA:\\n\", top_platforms_na)\n",
    "print('-------------------------------------------------------------------------------------------------------')\n",
    "print('-------------------------------------------------------------------------------------------------------')\n",
    "print(\"Top 5 platforms in EU:\\n\", top_platforms_eu)\n",
    "print('-------------------------------------------------------------------------------------------------------')\n",
    "print('-------------------------------------------------------------------------------------------------------')\n",
    "print(\"Top 5 platforms in JP:\\n\", top_platforms_jp)\n"
   ]
  },
  {
   "cell_type": "markdown",
   "metadata": {},
   "source": [
    "Depiendo de la region donde se lanzan las plataformas se logra apreciar de que cada tienen diferentes selecciones de plataformas. Esto nos puede ayudar a saber como podemos entrar en cada región y como hacer marketing dependiendo de la plataforma selecionadas. También cabe destacar que Norteamérica consume más plataformas que los dos paises seleccionados. "
   ]
  },
  {
   "cell_type": "markdown",
   "metadata": {},
   "source": [
    "# 4.1.1  Las variaciones en sus cuotas de mercado\n"
   ]
  },
  {
   "cell_type": "code",
   "execution_count": 34,
   "metadata": {},
   "outputs": [
    {
     "name": "stdout",
     "output_type": "stream",
     "text": [
      "Market share in NA:\n",
      " platform\n",
      "X360    13.716614\n",
      "PS2     13.191195\n",
      "Wii     11.209937\n",
      "PS3      8.982547\n",
      "DS       8.756447\n",
      "Name: na_sales, dtype: float64\n",
      "-------------------------------------------------------------------------------------------------------\n",
      "-------------------------------------------------------------------------------------------------------\n",
      "Market share in EU:\n",
      " platform\n",
      "PS2     13.858371\n",
      "PS3     13.632557\n",
      "X360    11.179022\n",
      "Wii     10.762392\n",
      "PS       8.848809\n",
      "Name: eu_sales, dtype: float64\n",
      "-------------------------------------------------------------------------------------------------------\n",
      "-------------------------------------------------------------------------------------------------------\n",
      "Market share in JP:\n",
      " platform\n",
      "DS      13.560399\n",
      "PS      10.830034\n",
      "PS2     10.656481\n",
      "SNES     9.030194\n",
      "3DS      7.795951\n",
      "Name: jp_sales, dtype: float64\n",
      "-------------------------------------------------------------------------------------------------------\n",
      "-------------------------------------------------------------------------------------------------------\n"
     ]
    }
   ],
   "source": [
    "#Total de ventas por región \n",
    "total_sales_na = df['na_sales'].sum()\n",
    "total_sales_eu = df['eu_sales'].sum()\n",
    "total_sales_jp = df['jp_sales'].sum()\n",
    "\n",
    "#Calculo de mercado \n",
    "def calculate_market_share(sales_per_platform, total_sales):\n",
    "    return (sales_per_platform / total_sales) * 100\n",
    "# Calcular el porcentaje de mercado\n",
    "market_share_na = calculate_market_share(top_platforms_na, total_sales_na)\n",
    "market_share_eu = calculate_market_share(top_platforms_eu, total_sales_eu)\n",
    "market_share_jp = calculate_market_share(top_platforms_jp, total_sales_jp)\n",
    "\n",
    "print(\"Market share in NA:\\n\", market_share_na)\n",
    "print('-------------------------------------------------------------------------------------------------------')\n",
    "print('-------------------------------------------------------------------------------------------------------')\n",
    "print(\"Market share in EU:\\n\", market_share_eu)\n",
    "print('-------------------------------------------------------------------------------------------------------')\n",
    "print('-------------------------------------------------------------------------------------------------------')\n",
    "print(\"Market share in JP:\\n\", market_share_jp)\n",
    "\n",
    "print('-------------------------------------------------------------------------------------------------------')\n",
    "print('-------------------------------------------------------------------------------------------------------')\n",
    "\n"
   ]
  },
  {
   "cell_type": "markdown",
   "metadata": {},
   "source": [
    "Con este analisis se puede apreciar que plataformas consumen cada región y esto nos puede ayudar para las proximas estrategias. Debido a que podremos saber que es lo que buscan en cada región en respecto de las plataformas y juegos, "
   ]
  },
  {
   "cell_type": "markdown",
   "metadata": {},
   "source": [
    "# 4.2 Los cinco géneros principales por región."
   ]
  },
  {
   "cell_type": "code",
   "execution_count": 35,
   "metadata": {},
   "outputs": [
    {
     "name": "stdout",
     "output_type": "stream",
     "text": [
      "Top 5 platforms in NA:\n",
      " genre\n",
      "Action      863.17\n",
      "Sports      671.20\n",
      "Shooter     584.83\n",
      "Platform    444.44\n",
      "Misc        399.57\n",
      "Name: na_sales, dtype: float64\n",
      "-------------------------------------------------------------------------------------------------------\n",
      "\n",
      "Top 5 platforms in EU:\n",
      " genre\n",
      "Action     510.99\n",
      "Sports     371.33\n",
      "Shooter    314.52\n",
      "Racing     234.49\n",
      "Misc       210.60\n",
      "Name: eu_sales, dtype: float64\n",
      "-------------------------------------------------------------------------------------------------------\n",
      "\n",
      "Top 5 platforms in JP:\n",
      " genre\n",
      "Role-Playing    353.39\n",
      "Action          160.14\n",
      "Sports          134.93\n",
      "Platform        130.71\n",
      "Misc            107.02\n",
      "Name: jp_sales, dtype: float64\n"
     ]
    }
   ],
   "source": [
    "#Las cinco generos con mayres ventas por región \n",
    "top_genre_na = df.groupby('genre')['na_sales'].sum().nlargest(5)\n",
    "top_genre_eu = df.groupby('genre')['eu_sales'].sum().nlargest(5)\n",
    "top_genre_jp = df.groupby('genre')['jp_sales'].sum().nlargest(5)\n",
    "\n",
    "print(\"Top 5 platforms in NA:\\n\", top_genre_na)\n",
    "print('-------------------------------------------------------------------------------------------------------')\n",
    "print('')\n",
    "print(\"Top 5 platforms in EU:\\n\", top_genre_eu)\n",
    "print('-------------------------------------------------------------------------------------------------------')\n",
    "print('')\n",
    "print(\"Top 5 platforms in JP:\\n\", top_genre_jp)\n",
    "\n"
   ]
  },
  {
   "cell_type": "markdown",
   "metadata": {},
   "source": [
    "Se puede apreciar que tanto en norteamerica y euroapa el los dos principales generos que consumen más son de acción, deporte y shooters. Esto nos da un panorma de que es lo que buscan los consumidores al momento de comprar una plataforma y los juegos que les gusta.\n",
    "En el caso de la región japonesa, los pirncipales juiegos que se consumen son los de role-playing, acción y deporte. Es soprendente como ellos les llama más los juegos de roles y que es lo que mas consumen y buscan, "
   ]
  },
  {
   "cell_type": "markdown",
   "metadata": {},
   "source": [
    "# 4.3  Clasificaciones de ESRB y Ventas"
   ]
  },
  {
   "cell_type": "code",
   "execution_count": 36,
   "metadata": {},
   "outputs": [
    {
     "name": "stdout",
     "output_type": "stream",
     "text": [
      "ESRB sales in NA:\n",
      " rating\n",
      "AO         1.26\n",
      "E       1274.24\n",
      "E10+     345.50\n",
      "EC         1.53\n",
      "K-A        2.56\n",
      "M        742.89\n",
      "RP         0.00\n",
      "T        747.60\n",
      "TBD     1227.62\n",
      "Name: na_sales, dtype: float64\n",
      "-------------------------------------------------------------------------------------------------------\n",
      "\n",
      "ESRB sales in EU:\n",
      " rating\n",
      "AO        0.61\n",
      "E       703.87\n",
      "E10+    183.35\n",
      "EC        0.11\n",
      "K-A       0.27\n",
      "M       480.00\n",
      "RP        0.03\n",
      "T       421.79\n",
      "TBD     610.18\n",
      "Name: eu_sales, dtype: float64\n",
      "-------------------------------------------------------------------------------------------------------\n",
      "\n",
      "ESRB sales in JP:\n",
      " rating\n",
      "AO        0.00\n",
      "E       197.96\n",
      "E10+     40.20\n",
      "EC        0.00\n",
      "K-A       1.46\n",
      "M        63.58\n",
      "RP        0.00\n",
      "T       150.70\n",
      "TBD     836.77\n",
      "Name: jp_sales, dtype: float64\n"
     ]
    }
   ],
   "source": [
    "#Asumar por region la calificaciín que tienen \n",
    "esrb_sales_na = df.groupby('rating')['na_sales'].sum()\n",
    "esrb_sales_eu = df.groupby('rating')['eu_sales'].sum()\n",
    "esrb_sales_jp = df.groupby('rating')['jp_sales'].sum()\n",
    "\n",
    "print(\"ESRB sales in NA:\\n\", esrb_sales_na)\n",
    "print('-------------------------------------------------------------------------------------------------------')\n",
    "print('')\n",
    "print(\"ESRB sales in EU:\\n\", esrb_sales_eu)\n",
    "print('-------------------------------------------------------------------------------------------------------')\n",
    "print('')\n",
    "print(\"ESRB sales in JP:\\n\", esrb_sales_jp)"
   ]
  },
  {
   "cell_type": "markdown",
   "metadata": {},
   "source": [
    "Según la clasificación y dependiendo de la región estos pueden ser marcadores para la toma de decisiónes de los consumidores. "
   ]
  },
  {
   "cell_type": "markdown",
   "metadata": {},
   "source": [
    "# 5. Hipótesis"
   ]
  },
  {
   "cell_type": "markdown",
   "metadata": {},
   "source": [
    "# 5.1 Calificaciones de Xbox One y PC."
   ]
  },
  {
   "cell_type": "markdown",
   "metadata": {},
   "source": [
    "Hipotesis nula (Ho) -> Las calificaciones promedio de los usuarios para las plataformas Xbox One y PC son las mismas.\n",
    "\n",
    "Hipotesis alternativa (Ha) -> Las calificaciones promedio de los usuarios para las plataformas Xbox One y PC no son las mismas."
   ]
  },
  {
   "cell_type": "code",
   "execution_count": 37,
   "metadata": {},
   "outputs": [
    {
     "name": "stdout",
     "output_type": "stream",
     "text": [
      "Estadístico t: -3.395729816715842\n",
      "Valor p: 0.0007068097266608117\n",
      "Rechazamos la hipótesis nula: Las calificaciones promedio de los usuarios para las plataformas Xbox One y PC no son las mismas .\n"
     ]
    }
   ],
   "source": [
    "#Filtrar por las plataformas de interes. \n",
    "\n",
    "xone_data = df[df['platform'] == 'XOne']['user_score'].dropna()\n",
    "pc_data = df[df['platform'] == 'PC']['user_score'].dropna()\n",
    "\n",
    "# Segundo paso: Realizar la prueba t para muestras independientes\n",
    "t_stat, p_value = st.ttest_ind(xone_data, pc_data)\n",
    "\n",
    "# Tercer paso: Imprimir los resultados\n",
    "print(f\"Estadístico t: {t_stat}\")\n",
    "print(f\"Valor p: {p_value}\")\n",
    "\n",
    "# Cuarto paso: Interpretar los resultados\n",
    "alpha = 0.05\n",
    "if p_value < alpha:\n",
    "    print(\"Rechazamos la hipótesis nula: Las calificaciones promedio de los usuarios para las plataformas Xbox One y PC no son las mismas .\")\n",
    "else:\n",
    "    print(\"No rechazamos la hipótesis nula: Las calificaciones promedio de los usuarios para las plataformas Xbox One y PC  son las mismas.\")"
   ]
  },
  {
   "cell_type": "markdown",
   "metadata": {},
   "source": [
    "Con base en los resultados de la prueba t, puedes concluir que existe evidencia suficiente para rechazar la hipótesis nula. Por lo tanto, las calificaciones promedio de los usuarios para las plataformas Xbox One y PC no son las mismas.\n",
    "\n",
    "Esto significa que hay una diferencia estadísticamente significativa en las calificaciones promedio entre las dos plataformas."
   ]
  },
  {
   "cell_type": "markdown",
   "metadata": {},
   "source": [
    "# 5.2 Calificaciones promedio de los usuarios "
   ]
  },
  {
   "cell_type": "markdown",
   "metadata": {},
   "source": [
    "Hipotesis nula (Ho) ->  Las calificaciones promedio de los usuarios para los géneros de Acción y Deportes son diferentes\n",
    "\n",
    "Hipotesis alternativa (Ha) -> Las calificaciones promedio de los usuarios para los géneros de Acción y Deportes son iguales."
   ]
  },
  {
   "cell_type": "code",
   "execution_count": 38,
   "metadata": {},
   "outputs": [
    {
     "name": "stdout",
     "output_type": "stream",
     "text": [
      "Estadístico t: -3.395729816715842\n",
      "Valor p: 0.0007068097266608117\n",
      "Rechazamos la hipótesis nula: Las calificaciones promedio de los usuarios para los géneros de Acción y Deportes son diferentes\n"
     ]
    }
   ],
   "source": [
    "#Filtrar por las generos de interes. \n",
    "\n",
    "score_action = df[df['genre'] == 'Action']['user_score'].dropna()\n",
    "score_sport = df[df['genre'] == 'Sport']['user_score'].dropna()\n",
    "\n",
    "# Segundo paso: Realizar la prueba t para muestras independientes\n",
    "t_stat, p_value = st.ttest_ind(xone_data, pc_data)\n",
    "\n",
    "# Tercer paso: Imprimir los resultados\n",
    "print(f\"Estadístico t: {t_stat}\")\n",
    "print(f\"Valor p: {p_value}\")\n",
    "\n",
    "# Cuarto paso: Interpretar los resultados\n",
    "alpha = 0.05\n",
    "if p_value < alpha:\n",
    "    print(\"Rechazamos la hipótesis nula: Las calificaciones promedio de los usuarios para los géneros de Acción y Deportes son diferentes\")\n",
    "else:\n",
    "    print(\"No rechazamos la hipótesis nula: Las calificaciones promedio de los usuarios para los géneros de Acción y Deportes son iguales.\")"
   ]
  },
  {
   "cell_type": "markdown",
   "metadata": {},
   "source": [
    "Con base en los resultados de la prueba t, puedes concluir que existe evidencia suficiente para rechazar la hipótesis nula. Por lo tanto, las calificaciones promedio de los usuarios para los generos de acción y deporte no son las mismas.\n",
    "\n",
    "Esto significa que hay una diferencia estadísticamente significativa en las calificaciones promedio entre los generos."
   ]
  },
  {
   "cell_type": "markdown",
   "metadata": {},
   "source": [
    "# 6 Conclusión"
   ]
  },
  {
   "cell_type": "markdown",
   "metadata": {},
   "source": [
    "Para concluir este análisis, se puede observar que el mercado de videojuegos y plataformas es extremadamente diverso, y que cada país o región tiene intereses y preferencias distintas. El estudio también demuestra cómo la tecnología avanza rápidamente, y cómo plataformas que alguna vez fueron novedosas pueden volverse obsoletas debido a la aparición de nuevas versiones. Además, los juegos que se lanzan pueden influir en la popularidad de una plataforma, opacando a otras. Comprender las tendencias de cada región es esencial para dirigir adecuadamente los esfuerzos de marketing y ofrecer productos que se adapten mejor a las demandas específicas de cada mercado.\n",
    "\n"
   ]
  }
 ],
 "metadata": {
  "ExecuteTimeLog": [
   {
    "duration": 498,
    "start_time": "2024-08-12T17:12:43.073Z"
   },
   {
    "duration": 54,
    "start_time": "2024-08-12T17:13:59.553Z"
   },
   {
    "duration": 18,
    "start_time": "2024-08-12T17:14:23.993Z"
   },
   {
    "duration": 4493,
    "start_time": "2024-08-12T17:16:16.852Z"
   },
   {
    "duration": 42,
    "start_time": "2024-08-12T17:16:21.349Z"
   },
   {
    "duration": 1199,
    "start_time": "2024-08-12T17:16:34.685Z"
   },
   {
    "duration": 39,
    "start_time": "2024-08-12T17:16:37.291Z"
   },
   {
    "duration": 25,
    "start_time": "2024-08-12T17:16:38.411Z"
   },
   {
    "duration": 21,
    "start_time": "2024-08-12T17:16:42.124Z"
   },
   {
    "duration": 50,
    "start_time": "2024-08-12T17:17:21.545Z"
   },
   {
    "duration": 1304,
    "start_time": "2024-08-12T17:22:59.752Z"
   },
   {
    "duration": 84,
    "start_time": "2024-08-12T17:23:14.647Z"
   },
   {
    "duration": 30,
    "start_time": "2024-08-12T17:23:15.397Z"
   },
   {
    "duration": 52,
    "start_time": "2024-08-12T17:23:16.337Z"
   },
   {
    "duration": 466,
    "start_time": "2024-08-12T17:34:05.825Z"
   },
   {
    "duration": 4,
    "start_time": "2024-08-12T17:34:17.291Z"
   },
   {
    "duration": 33,
    "start_time": "2024-08-12T17:34:52.164Z"
   },
   {
    "duration": 44,
    "start_time": "2024-08-12T17:46:47.019Z"
   },
   {
    "duration": 25,
    "start_time": "2024-08-12T17:47:33.735Z"
   },
   {
    "duration": 27,
    "start_time": "2024-08-12T17:48:14.204Z"
   },
   {
    "duration": 37,
    "start_time": "2024-08-12T17:49:35.024Z"
   },
   {
    "duration": 37,
    "start_time": "2024-08-12T17:49:47.334Z"
   },
   {
    "duration": 23,
    "start_time": "2024-08-12T17:49:57.230Z"
   },
   {
    "duration": 1196,
    "start_time": "2024-08-12T17:50:06.393Z"
   },
   {
    "duration": 48,
    "start_time": "2024-08-12T17:50:07.592Z"
   },
   {
    "duration": 26,
    "start_time": "2024-08-12T17:50:08.623Z"
   },
   {
    "duration": 54,
    "start_time": "2024-08-12T17:50:09.603Z"
   },
   {
    "duration": 5,
    "start_time": "2024-08-12T17:50:11.811Z"
   },
   {
    "duration": 32,
    "start_time": "2024-08-12T17:50:12.522Z"
   },
   {
    "duration": 15,
    "start_time": "2024-08-12T17:50:14.380Z"
   },
   {
    "duration": 33,
    "start_time": "2024-08-12T17:50:59.792Z"
   },
   {
    "duration": 35,
    "start_time": "2024-08-12T17:51:15.400Z"
   },
   {
    "duration": 7,
    "start_time": "2024-08-12T17:53:48.938Z"
   },
   {
    "duration": 36,
    "start_time": "2024-08-12T17:53:49.987Z"
   },
   {
    "duration": 18,
    "start_time": "2024-08-12T17:54:02.175Z"
   },
   {
    "duration": 35,
    "start_time": "2024-08-12T17:54:04.527Z"
   },
   {
    "duration": 23,
    "start_time": "2024-08-12T17:54:29.878Z"
   },
   {
    "duration": 35,
    "start_time": "2024-08-12T17:54:32.992Z"
   },
   {
    "duration": 7,
    "start_time": "2024-08-12T17:56:06.747Z"
   },
   {
    "duration": 34,
    "start_time": "2024-08-12T17:56:07.794Z"
   },
   {
    "duration": 1271,
    "start_time": "2024-08-12T17:56:19.824Z"
   },
   {
    "duration": 45,
    "start_time": "2024-08-12T17:56:21.099Z"
   },
   {
    "duration": 27,
    "start_time": "2024-08-12T17:56:22.074Z"
   },
   {
    "duration": 49,
    "start_time": "2024-08-12T17:56:23.719Z"
   },
   {
    "duration": 5,
    "start_time": "2024-08-12T17:56:25.598Z"
   },
   {
    "duration": 35,
    "start_time": "2024-08-12T17:56:26.199Z"
   },
   {
    "duration": 13,
    "start_time": "2024-08-12T17:56:27.901Z"
   },
   {
    "duration": 34,
    "start_time": "2024-08-12T17:56:28.717Z"
   },
   {
    "duration": 11,
    "start_time": "2024-08-12T17:57:50.964Z"
   },
   {
    "duration": 36,
    "start_time": "2024-08-12T17:57:51.698Z"
   },
   {
    "duration": 1263,
    "start_time": "2024-08-12T17:58:08.432Z"
   },
   {
    "duration": 46,
    "start_time": "2024-08-12T17:58:09.699Z"
   },
   {
    "duration": 31,
    "start_time": "2024-08-12T17:58:10.560Z"
   },
   {
    "duration": 51,
    "start_time": "2024-08-12T17:58:11.169Z"
   },
   {
    "duration": 4,
    "start_time": "2024-08-12T17:58:13.119Z"
   },
   {
    "duration": 32,
    "start_time": "2024-08-12T17:58:14.698Z"
   },
   {
    "duration": 18,
    "start_time": "2024-08-12T17:58:16.784Z"
   },
   {
    "duration": 35,
    "start_time": "2024-08-12T17:58:17.702Z"
   },
   {
    "duration": 1688,
    "start_time": "2024-08-12T18:06:42.926Z"
   },
   {
    "duration": 0,
    "start_time": "2024-08-12T18:06:44.617Z"
   },
   {
    "duration": 44,
    "start_time": "2024-08-12T18:06:56.222Z"
   },
   {
    "duration": 1287,
    "start_time": "2024-08-12T18:08:56.309Z"
   },
   {
    "duration": 47,
    "start_time": "2024-08-12T18:08:57.599Z"
   },
   {
    "duration": 26,
    "start_time": "2024-08-12T18:08:59.108Z"
   },
   {
    "duration": 49,
    "start_time": "2024-08-12T18:08:59.909Z"
   },
   {
    "duration": 4,
    "start_time": "2024-08-12T18:09:02.556Z"
   },
   {
    "duration": 32,
    "start_time": "2024-08-12T18:09:03.530Z"
   },
   {
    "duration": 17,
    "start_time": "2024-08-12T18:09:08.908Z"
   },
   {
    "duration": 38,
    "start_time": "2024-08-12T18:09:12.563Z"
   },
   {
    "duration": 10,
    "start_time": "2024-08-12T18:09:17.298Z"
   },
   {
    "duration": 37,
    "start_time": "2024-08-12T18:09:18.159Z"
   },
   {
    "duration": 8,
    "start_time": "2024-08-12T18:09:27.884Z"
   },
   {
    "duration": 36,
    "start_time": "2024-08-12T18:09:29.566Z"
   },
   {
    "duration": 8,
    "start_time": "2024-08-12T18:20:03.135Z"
   },
   {
    "duration": 8,
    "start_time": "2024-08-12T18:20:06.049Z"
   },
   {
    "duration": 282,
    "start_time": "2024-08-12T18:20:07.899Z"
   },
   {
    "duration": 27,
    "start_time": "2024-08-12T18:28:27.071Z"
   },
   {
    "duration": 313,
    "start_time": "2024-08-12T19:18:21.800Z"
   },
   {
    "duration": 4900,
    "start_time": "2024-08-12T19:18:37.091Z"
   },
   {
    "duration": 56,
    "start_time": "2024-08-12T19:18:41.995Z"
   },
   {
    "duration": 26,
    "start_time": "2024-08-12T19:18:42.053Z"
   },
   {
    "duration": 62,
    "start_time": "2024-08-12T19:18:42.083Z"
   },
   {
    "duration": 5,
    "start_time": "2024-08-12T19:18:42.148Z"
   },
   {
    "duration": 58,
    "start_time": "2024-08-12T19:18:42.156Z"
   },
   {
    "duration": 16,
    "start_time": "2024-08-12T19:18:42.910Z"
   },
   {
    "duration": 38,
    "start_time": "2024-08-12T19:18:43.383Z"
   },
   {
    "duration": 26,
    "start_time": "2024-08-12T19:18:44.800Z"
   },
   {
    "duration": 278,
    "start_time": "2024-08-12T19:18:45.353Z"
   },
   {
    "duration": 1780,
    "start_time": "2024-08-12T19:18:46.953Z"
   },
   {
    "duration": 592,
    "start_time": "2024-08-12T19:19:31.334Z"
   },
   {
    "duration": 597,
    "start_time": "2024-08-12T19:20:18.734Z"
   },
   {
    "duration": 4886,
    "start_time": "2024-08-14T14:31:05.256Z"
   },
   {
    "duration": 53,
    "start_time": "2024-08-14T14:31:10.676Z"
   },
   {
    "duration": 26,
    "start_time": "2024-08-14T14:31:12.405Z"
   },
   {
    "duration": 49,
    "start_time": "2024-08-14T14:31:13.619Z"
   },
   {
    "duration": 5,
    "start_time": "2024-08-14T14:31:18.434Z"
   },
   {
    "duration": 37,
    "start_time": "2024-08-14T14:31:19.826Z"
   },
   {
    "duration": 10,
    "start_time": "2024-08-14T14:40:30.570Z"
   },
   {
    "duration": 20,
    "start_time": "2024-08-14T14:42:01.157Z"
   },
   {
    "duration": 35,
    "start_time": "2024-08-14T14:42:02.781Z"
   },
   {
    "duration": 1619,
    "start_time": "2024-08-14T14:45:03.908Z"
   },
   {
    "duration": 1287,
    "start_time": "2024-08-14T14:45:16.798Z"
   },
   {
    "duration": 48,
    "start_time": "2024-08-14T14:45:18.088Z"
   },
   {
    "duration": 33,
    "start_time": "2024-08-14T14:45:18.402Z"
   },
   {
    "duration": 51,
    "start_time": "2024-08-14T14:45:18.948Z"
   },
   {
    "duration": 4,
    "start_time": "2024-08-14T14:45:20.058Z"
   },
   {
    "duration": 33,
    "start_time": "2024-08-14T14:45:20.804Z"
   },
   {
    "duration": 10,
    "start_time": "2024-08-14T14:45:22.403Z"
   },
   {
    "duration": 21,
    "start_time": "2024-08-14T14:45:23.996Z"
   },
   {
    "duration": 36,
    "start_time": "2024-08-14T14:45:25.185Z"
   },
   {
    "duration": 12,
    "start_time": "2024-08-14T14:56:29.101Z"
   },
   {
    "duration": 1688,
    "start_time": "2024-08-14T14:58:01.449Z"
   },
   {
    "duration": 0,
    "start_time": "2024-08-14T14:58:03.140Z"
   },
   {
    "duration": 11,
    "start_time": "2024-08-14T14:58:18.341Z"
   },
   {
    "duration": 36,
    "start_time": "2024-08-14T14:58:19.777Z"
   },
   {
    "duration": 1206,
    "start_time": "2024-08-14T15:01:02.183Z"
   },
   {
    "duration": 40,
    "start_time": "2024-08-14T15:01:03.463Z"
   },
   {
    "duration": 25,
    "start_time": "2024-08-14T15:01:05.066Z"
   },
   {
    "duration": 53,
    "start_time": "2024-08-14T15:01:05.757Z"
   },
   {
    "duration": 5,
    "start_time": "2024-08-14T15:01:07.845Z"
   },
   {
    "duration": 32,
    "start_time": "2024-08-14T15:01:08.641Z"
   },
   {
    "duration": 11,
    "start_time": "2024-08-14T15:01:10.571Z"
   },
   {
    "duration": 24,
    "start_time": "2024-08-14T15:01:11.649Z"
   },
   {
    "duration": 12,
    "start_time": "2024-08-14T15:01:13.319Z"
   },
   {
    "duration": 1699,
    "start_time": "2024-08-14T15:01:36.093Z"
   },
   {
    "duration": 13,
    "start_time": "2024-08-14T15:01:39.176Z"
   },
   {
    "duration": 37,
    "start_time": "2024-08-14T15:01:40.486Z"
   },
   {
    "duration": 1225,
    "start_time": "2024-08-14T15:02:00.775Z"
   },
   {
    "duration": 49,
    "start_time": "2024-08-14T15:02:02.007Z"
   },
   {
    "duration": 26,
    "start_time": "2024-08-14T15:02:02.060Z"
   },
   {
    "duration": 51,
    "start_time": "2024-08-14T15:02:02.204Z"
   },
   {
    "duration": 5,
    "start_time": "2024-08-14T15:02:03.247Z"
   },
   {
    "duration": 33,
    "start_time": "2024-08-14T15:02:03.752Z"
   },
   {
    "duration": 10,
    "start_time": "2024-08-14T15:02:05.880Z"
   },
   {
    "duration": 21,
    "start_time": "2024-08-14T15:02:07.034Z"
   },
   {
    "duration": 11,
    "start_time": "2024-08-14T15:02:08.750Z"
   },
   {
    "duration": 1676,
    "start_time": "2024-08-14T15:05:25.388Z"
   },
   {
    "duration": 11,
    "start_time": "2024-08-14T15:05:27.108Z"
   },
   {
    "duration": 36,
    "start_time": "2024-08-14T15:05:28.798Z"
   },
   {
    "duration": 1270,
    "start_time": "2024-08-14T15:05:58.924Z"
   },
   {
    "duration": 46,
    "start_time": "2024-08-14T15:06:00.198Z"
   },
   {
    "duration": 26,
    "start_time": "2024-08-14T15:06:00.247Z"
   },
   {
    "duration": 75,
    "start_time": "2024-08-14T15:06:00.277Z"
   },
   {
    "duration": 4,
    "start_time": "2024-08-14T15:06:01.152Z"
   },
   {
    "duration": 43,
    "start_time": "2024-08-14T15:06:01.416Z"
   },
   {
    "duration": 10,
    "start_time": "2024-08-14T15:06:02.281Z"
   },
   {
    "duration": 21,
    "start_time": "2024-08-14T15:06:03.032Z"
   },
   {
    "duration": 11,
    "start_time": "2024-08-14T15:06:03.830Z"
   },
   {
    "duration": 35,
    "start_time": "2024-08-14T15:06:04.575Z"
   },
   {
    "duration": 1685,
    "start_time": "2024-08-14T15:06:32.765Z"
   },
   {
    "duration": 0,
    "start_time": "2024-08-14T15:06:34.454Z"
   },
   {
    "duration": 40,
    "start_time": "2024-08-14T15:06:34.798Z"
   },
   {
    "duration": 325,
    "start_time": "2024-08-14T15:08:09.813Z"
   },
   {
    "duration": 0,
    "start_time": "2024-08-14T15:08:10.141Z"
   },
   {
    "duration": 25,
    "start_time": "2024-08-14T15:08:11.308Z"
   },
   {
    "duration": 1265,
    "start_time": "2024-08-14T15:08:19.397Z"
   },
   {
    "duration": 42,
    "start_time": "2024-08-14T15:08:20.665Z"
   },
   {
    "duration": 25,
    "start_time": "2024-08-14T15:08:21.615Z"
   },
   {
    "duration": 48,
    "start_time": "2024-08-14T15:08:22.082Z"
   },
   {
    "duration": 3,
    "start_time": "2024-08-14T15:08:23.401Z"
   },
   {
    "duration": 38,
    "start_time": "2024-08-14T15:08:23.902Z"
   },
   {
    "duration": 10,
    "start_time": "2024-08-14T15:08:25.512Z"
   },
   {
    "duration": 22,
    "start_time": "2024-08-14T15:08:26.603Z"
   },
   {
    "duration": 12,
    "start_time": "2024-08-14T15:08:27.763Z"
   },
   {
    "duration": 36,
    "start_time": "2024-08-14T15:08:28.633Z"
   },
   {
    "duration": 7,
    "start_time": "2024-08-14T15:22:00.747Z"
   },
   {
    "duration": 724,
    "start_time": "2024-08-14T15:22:10.980Z"
   },
   {
    "duration": 11,
    "start_time": "2024-08-14T15:22:11.760Z"
   },
   {
    "duration": 35,
    "start_time": "2024-08-14T15:22:12.787Z"
   },
   {
    "duration": 1266,
    "start_time": "2024-08-14T15:22:33.101Z"
   },
   {
    "duration": 41,
    "start_time": "2024-08-14T15:22:34.371Z"
   },
   {
    "duration": 26,
    "start_time": "2024-08-14T15:22:34.665Z"
   },
   {
    "duration": 49,
    "start_time": "2024-08-14T15:22:35.096Z"
   },
   {
    "duration": 4,
    "start_time": "2024-08-14T15:22:36.379Z"
   },
   {
    "duration": 32,
    "start_time": "2024-08-14T15:22:36.796Z"
   },
   {
    "duration": 11,
    "start_time": "2024-08-14T15:22:38.519Z"
   },
   {
    "duration": 27,
    "start_time": "2024-08-14T15:22:39.478Z"
   },
   {
    "duration": 12,
    "start_time": "2024-08-14T15:22:40.631Z"
   },
   {
    "duration": 35,
    "start_time": "2024-08-14T15:22:42.390Z"
   },
   {
    "duration": 26,
    "start_time": "2024-08-14T15:23:21.646Z"
   },
   {
    "duration": 280,
    "start_time": "2024-08-14T15:23:27.932Z"
   },
   {
    "duration": 1382,
    "start_time": "2024-08-14T15:42:39.616Z"
   },
   {
    "duration": 99,
    "start_time": "2024-08-14T15:43:04.479Z"
   },
   {
    "duration": 310,
    "start_time": "2024-08-14T15:47:42.409Z"
   },
   {
    "duration": 1293,
    "start_time": "2024-08-14T15:47:51.933Z"
   },
   {
    "duration": 48,
    "start_time": "2024-08-14T15:47:53.229Z"
   },
   {
    "duration": 27,
    "start_time": "2024-08-14T15:47:53.831Z"
   },
   {
    "duration": 49,
    "start_time": "2024-08-14T15:47:54.398Z"
   },
   {
    "duration": 4,
    "start_time": "2024-08-14T15:47:55.595Z"
   },
   {
    "duration": 37,
    "start_time": "2024-08-14T15:47:55.807Z"
   },
   {
    "duration": 11,
    "start_time": "2024-08-14T15:47:56.356Z"
   },
   {
    "duration": 27,
    "start_time": "2024-08-14T15:47:56.795Z"
   },
   {
    "duration": 11,
    "start_time": "2024-08-14T15:47:57.215Z"
   },
   {
    "duration": 37,
    "start_time": "2024-08-14T15:47:57.599Z"
   },
   {
    "duration": 30,
    "start_time": "2024-08-14T15:47:58.998Z"
   },
   {
    "duration": 1328,
    "start_time": "2024-08-14T15:53:46.429Z"
   },
   {
    "duration": 54,
    "start_time": "2024-08-14T15:53:48.518Z"
   },
   {
    "duration": 26,
    "start_time": "2024-08-14T15:53:48.990Z"
   },
   {
    "duration": 50,
    "start_time": "2024-08-14T15:53:49.223Z"
   },
   {
    "duration": 9,
    "start_time": "2024-08-14T15:53:49.819Z"
   },
   {
    "duration": 33,
    "start_time": "2024-08-14T15:53:50.018Z"
   },
   {
    "duration": 10,
    "start_time": "2024-08-14T15:53:50.405Z"
   },
   {
    "duration": 28,
    "start_time": "2024-08-14T15:53:50.618Z"
   },
   {
    "duration": 12,
    "start_time": "2024-08-14T15:53:50.865Z"
   },
   {
    "duration": 39,
    "start_time": "2024-08-14T15:53:51.447Z"
   },
   {
    "duration": 32,
    "start_time": "2024-08-14T15:53:53.055Z"
   },
   {
    "duration": 264445,
    "start_time": "2024-08-14T15:53:53.883Z"
   },
   {
    "duration": 521,
    "start_time": "2024-08-14T15:58:18.332Z"
   },
   {
    "duration": 4,
    "start_time": "2024-08-14T16:27:56.779Z"
   },
   {
    "duration": 38,
    "start_time": "2024-08-14T16:27:57.944Z"
   },
   {
    "duration": 28,
    "start_time": "2024-08-14T16:27:58.442Z"
   },
   {
    "duration": 48,
    "start_time": "2024-08-14T16:27:58.691Z"
   },
   {
    "duration": 5,
    "start_time": "2024-08-14T16:27:59.507Z"
   },
   {
    "duration": 34,
    "start_time": "2024-08-14T16:27:59.751Z"
   },
   {
    "duration": 11,
    "start_time": "2024-08-14T16:28:00.318Z"
   },
   {
    "duration": 27,
    "start_time": "2024-08-14T16:28:00.638Z"
   },
   {
    "duration": 14,
    "start_time": "2024-08-14T16:28:01.254Z"
   },
   {
    "duration": 37,
    "start_time": "2024-08-14T16:28:01.750Z"
   },
   {
    "duration": 29,
    "start_time": "2024-08-14T16:28:03.536Z"
   },
   {
    "duration": 1240,
    "start_time": "2024-08-14T16:30:09.438Z"
   },
   {
    "duration": 38,
    "start_time": "2024-08-14T16:30:11.800Z"
   },
   {
    "duration": 26,
    "start_time": "2024-08-14T16:30:12.183Z"
   },
   {
    "duration": 50,
    "start_time": "2024-08-14T16:30:12.373Z"
   },
   {
    "duration": 4,
    "start_time": "2024-08-14T16:30:12.906Z"
   },
   {
    "duration": 32,
    "start_time": "2024-08-14T16:30:13.098Z"
   },
   {
    "duration": 10,
    "start_time": "2024-08-14T16:30:13.507Z"
   },
   {
    "duration": 27,
    "start_time": "2024-08-14T16:30:14.140Z"
   },
   {
    "duration": 11,
    "start_time": "2024-08-14T16:30:14.980Z"
   },
   {
    "duration": 35,
    "start_time": "2024-08-14T16:30:16.318Z"
   },
   {
    "duration": 32,
    "start_time": "2024-08-14T16:30:20.182Z"
   },
   {
    "duration": 264476,
    "start_time": "2024-08-14T16:30:23.665Z"
   },
   {
    "duration": 27,
    "start_time": "2024-08-14T16:36:19.435Z"
   },
   {
    "duration": 268292,
    "start_time": "2024-08-14T16:36:29.952Z"
   },
   {
    "duration": 25,
    "start_time": "2024-08-14T16:46:00.265Z"
   },
   {
    "duration": 271427,
    "start_time": "2024-08-14T16:46:52.668Z"
   },
   {
    "duration": 1227,
    "start_time": "2024-08-14T17:05:40.756Z"
   },
   {
    "duration": 46,
    "start_time": "2024-08-14T17:05:41.987Z"
   },
   {
    "duration": 27,
    "start_time": "2024-08-14T17:05:42.036Z"
   },
   {
    "duration": 68,
    "start_time": "2024-08-14T17:05:42.067Z"
   },
   {
    "duration": 5,
    "start_time": "2024-08-14T17:05:42.655Z"
   },
   {
    "duration": 32,
    "start_time": "2024-08-14T17:05:42.856Z"
   },
   {
    "duration": 11,
    "start_time": "2024-08-14T17:05:43.358Z"
   },
   {
    "duration": 29,
    "start_time": "2024-08-14T17:05:43.767Z"
   },
   {
    "duration": 11,
    "start_time": "2024-08-14T17:05:44.237Z"
   },
   {
    "duration": 36,
    "start_time": "2024-08-14T17:05:44.649Z"
   },
   {
    "duration": 27,
    "start_time": "2024-08-14T17:05:46.521Z"
   },
   {
    "duration": 265714,
    "start_time": "2024-08-14T17:05:47.508Z"
   },
   {
    "duration": 25,
    "start_time": "2024-08-14T17:11:16.192Z"
   },
   {
    "duration": 12,
    "start_time": "2024-08-14T17:12:40.566Z"
   },
   {
    "duration": 8,
    "start_time": "2024-08-14T17:12:52.507Z"
   },
   {
    "duration": 650,
    "start_time": "2024-08-14T17:16:04.726Z"
   },
   {
    "duration": 26,
    "start_time": "2024-08-14T17:16:12.784Z"
   },
   {
    "duration": 236,
    "start_time": "2024-08-14T17:16:19.596Z"
   },
   {
    "duration": 261277,
    "start_time": "2024-08-14T17:17:01.103Z"
   },
   {
    "duration": 1314,
    "start_time": "2024-08-14T17:26:29.347Z"
   },
   {
    "duration": 39,
    "start_time": "2024-08-14T17:26:30.664Z"
   },
   {
    "duration": 30,
    "start_time": "2024-08-14T17:26:30.725Z"
   },
   {
    "duration": 76,
    "start_time": "2024-08-14T17:26:30.758Z"
   },
   {
    "duration": 5,
    "start_time": "2024-08-14T17:26:30.837Z"
   },
   {
    "duration": 34,
    "start_time": "2024-08-14T17:26:30.846Z"
   },
   {
    "duration": 44,
    "start_time": "2024-08-14T17:26:30.882Z"
   },
   {
    "duration": 29,
    "start_time": "2024-08-14T17:26:30.929Z"
   },
   {
    "duration": 11,
    "start_time": "2024-08-14T17:26:30.965Z"
   },
   {
    "duration": 74,
    "start_time": "2024-08-14T17:26:30.980Z"
   },
   {
    "duration": 26,
    "start_time": "2024-08-14T17:26:31.059Z"
   },
   {
    "duration": 550,
    "start_time": "2024-08-14T17:26:31.106Z"
   },
   {
    "duration": 25,
    "start_time": "2024-08-14T17:28:35.684Z"
   },
   {
    "duration": 618,
    "start_time": "2024-08-14T17:31:08.320Z"
   },
   {
    "duration": 514,
    "start_time": "2024-08-14T17:31:19.702Z"
   },
   {
    "duration": 200,
    "start_time": "2024-08-14T17:39:04.058Z"
   },
   {
    "duration": 10,
    "start_time": "2024-08-14T17:39:28.735Z"
   },
   {
    "duration": 9,
    "start_time": "2024-08-14T17:39:44.639Z"
   },
   {
    "duration": 5,
    "start_time": "2024-08-14T17:39:51.162Z"
   },
   {
    "duration": 10,
    "start_time": "2024-08-14T17:39:57.389Z"
   },
   {
    "duration": 467,
    "start_time": "2024-08-14T17:43:53.158Z"
   },
   {
    "duration": 45,
    "start_time": "2024-08-14T18:04:49.133Z"
   },
   {
    "duration": 52524,
    "start_time": "2024-08-14T18:08:12.663Z"
   },
   {
    "duration": 241,
    "start_time": "2024-08-14T18:13:09.831Z"
   },
   {
    "duration": 28,
    "start_time": "2024-08-14T18:17:11.953Z"
   },
   {
    "duration": 28,
    "start_time": "2024-08-14T18:17:40.140Z"
   },
   {
    "duration": 38,
    "start_time": "2024-08-14T18:19:30.644Z"
   },
   {
    "duration": 15,
    "start_time": "2024-08-14T18:25:23.055Z"
   },
   {
    "duration": 16,
    "start_time": "2024-08-14T18:25:36.695Z"
   },
   {
    "duration": 14,
    "start_time": "2024-08-14T18:26:03.438Z"
   },
   {
    "duration": 10,
    "start_time": "2024-08-14T18:26:35.303Z"
   },
   {
    "duration": 37,
    "start_time": "2024-08-14T18:27:02.146Z"
   },
   {
    "duration": 5472,
    "start_time": "2024-08-14T20:41:38.619Z"
   },
   {
    "duration": 59,
    "start_time": "2024-08-14T20:41:49.488Z"
   },
   {
    "duration": 26,
    "start_time": "2024-08-14T20:41:51.264Z"
   },
   {
    "duration": 67,
    "start_time": "2024-08-14T20:41:52.125Z"
   },
   {
    "duration": 6,
    "start_time": "2024-08-14T20:41:54.564Z"
   },
   {
    "duration": 33,
    "start_time": "2024-08-14T20:41:55.444Z"
   },
   {
    "duration": 10,
    "start_time": "2024-08-14T20:41:58.364Z"
   },
   {
    "duration": 44,
    "start_time": "2024-08-14T20:41:59.853Z"
   },
   {
    "duration": 12,
    "start_time": "2024-08-14T20:42:08.760Z"
   },
   {
    "duration": 36,
    "start_time": "2024-08-14T20:42:09.518Z"
   },
   {
    "duration": 27,
    "start_time": "2024-08-14T20:42:12.663Z"
   },
   {
    "duration": 545,
    "start_time": "2024-08-14T20:42:17.709Z"
   },
   {
    "duration": 450,
    "start_time": "2024-08-14T20:42:24.445Z"
   },
   {
    "duration": 37,
    "start_time": "2024-08-14T20:42:36.230Z"
   },
   {
    "duration": 1007,
    "start_time": "2024-08-14T20:43:29.603Z"
   },
   {
    "duration": 4951,
    "start_time": "2024-08-15T17:45:18.258Z"
   },
   {
    "duration": 58,
    "start_time": "2024-08-15T17:45:23.212Z"
   },
   {
    "duration": 26,
    "start_time": "2024-08-15T17:45:23.273Z"
   },
   {
    "duration": 50,
    "start_time": "2024-08-15T17:45:23.302Z"
   },
   {
    "duration": 4,
    "start_time": "2024-08-15T17:45:23.688Z"
   },
   {
    "duration": 33,
    "start_time": "2024-08-15T17:45:23.945Z"
   },
   {
    "duration": 11,
    "start_time": "2024-08-15T17:45:24.497Z"
   },
   {
    "duration": 28,
    "start_time": "2024-08-15T17:45:24.738Z"
   },
   {
    "duration": 11,
    "start_time": "2024-08-15T17:45:25.025Z"
   },
   {
    "duration": 36,
    "start_time": "2024-08-15T17:45:25.286Z"
   },
   {
    "duration": 26,
    "start_time": "2024-08-15T17:45:26.086Z"
   },
   {
    "duration": 553,
    "start_time": "2024-08-15T17:45:27.903Z"
   },
   {
    "duration": 465,
    "start_time": "2024-08-15T17:45:30.352Z"
   },
   {
    "duration": 408,
    "start_time": "2024-08-15T18:00:39.721Z"
   },
   {
    "duration": 37,
    "start_time": "2024-08-15T18:00:45.559Z"
   },
   {
    "duration": 922,
    "start_time": "2024-08-15T18:00:51.413Z"
   },
   {
    "duration": 12,
    "start_time": "2024-08-15T18:05:16.138Z"
   },
   {
    "duration": 15,
    "start_time": "2024-08-15T18:06:03.139Z"
   },
   {
    "duration": 14,
    "start_time": "2024-08-15T18:08:17.694Z"
   },
   {
    "duration": 110,
    "start_time": "2024-08-15T18:23:50.506Z"
   },
   {
    "duration": 7,
    "start_time": "2024-08-15T18:24:03.713Z"
   },
   {
    "duration": 6,
    "start_time": "2024-08-15T18:26:18.150Z"
   },
   {
    "duration": 375,
    "start_time": "2024-08-15T18:42:06.950Z"
   },
   {
    "duration": 133,
    "start_time": "2024-08-15T18:42:38.657Z"
   },
   {
    "duration": 80,
    "start_time": "2024-08-15T18:42:51.197Z"
   },
   {
    "duration": 72,
    "start_time": "2024-08-15T18:43:40.225Z"
   },
   {
    "duration": 103,
    "start_time": "2024-08-15T18:44:00.502Z"
   },
   {
    "duration": 72,
    "start_time": "2024-08-15T18:46:29.120Z"
   },
   {
    "duration": 12,
    "start_time": "2024-08-15T18:47:34.179Z"
   },
   {
    "duration": 8,
    "start_time": "2024-08-15T18:48:29.608Z"
   },
   {
    "duration": 13,
    "start_time": "2024-08-15T18:48:42.714Z"
   },
   {
    "duration": 13,
    "start_time": "2024-08-15T18:50:02.671Z"
   },
   {
    "duration": 13,
    "start_time": "2024-08-15T18:50:35.246Z"
   },
   {
    "duration": 17,
    "start_time": "2024-08-15T18:52:13.069Z"
   },
   {
    "duration": 28,
    "start_time": "2024-08-15T18:52:42.608Z"
   },
   {
    "duration": 6,
    "start_time": "2024-08-15T18:52:58.991Z"
   },
   {
    "duration": 415,
    "start_time": "2024-08-15T18:53:02.747Z"
   },
   {
    "duration": 616,
    "start_time": "2024-08-15T19:04:11.660Z"
   },
   {
    "duration": 679,
    "start_time": "2024-08-15T19:04:23.091Z"
   },
   {
    "duration": 719,
    "start_time": "2024-08-15T19:05:09.364Z"
   },
   {
    "duration": 613,
    "start_time": "2024-08-15T19:05:44.693Z"
   },
   {
    "duration": 598,
    "start_time": "2024-08-15T19:21:17.217Z"
   },
   {
    "duration": 629,
    "start_time": "2024-08-15T19:21:21.041Z"
   },
   {
    "duration": 25,
    "start_time": "2024-08-15T19:23:20.783Z"
   },
   {
    "duration": 34,
    "start_time": "2024-08-15T19:23:57.997Z"
   },
   {
    "duration": 28,
    "start_time": "2024-08-15T19:24:43.434Z"
   },
   {
    "duration": 19,
    "start_time": "2024-08-15T19:24:49.715Z"
   },
   {
    "duration": 305,
    "start_time": "2024-08-15T19:29:46.468Z"
   },
   {
    "duration": 297,
    "start_time": "2024-08-15T19:30:16.385Z"
   },
   {
    "duration": 7,
    "start_time": "2024-08-15T19:31:08.496Z"
   },
   {
    "duration": 244,
    "start_time": "2024-08-15T19:31:14.884Z"
   },
   {
    "duration": 17,
    "start_time": "2024-08-15T19:31:25.898Z"
   },
   {
    "duration": 392,
    "start_time": "2024-08-15T19:31:26.466Z"
   },
   {
    "duration": 308,
    "start_time": "2024-08-15T19:32:07.804Z"
   },
   {
    "duration": 293,
    "start_time": "2024-08-15T19:32:08.438Z"
   },
   {
    "duration": 6,
    "start_time": "2024-08-15T19:32:28.473Z"
   },
   {
    "duration": 254,
    "start_time": "2024-08-15T19:32:29.939Z"
   },
   {
    "duration": 18,
    "start_time": "2024-08-15T19:32:51.375Z"
   },
   {
    "duration": 291,
    "start_time": "2024-08-15T19:32:52.049Z"
   },
   {
    "duration": 298,
    "start_time": "2024-08-15T19:45:17.666Z"
   },
   {
    "duration": 277,
    "start_time": "2024-08-15T19:46:37.462Z"
   },
   {
    "duration": 872,
    "start_time": "2024-08-15T19:52:08.984Z"
   },
   {
    "duration": 79,
    "start_time": "2024-08-15T19:52:16.740Z"
   },
   {
    "duration": 7,
    "start_time": "2024-08-15T19:52:48.105Z"
   },
   {
    "duration": 7,
    "start_time": "2024-08-15T19:53:42.947Z"
   },
   {
    "duration": 7,
    "start_time": "2024-08-15T19:53:56.032Z"
   },
   {
    "duration": 18,
    "start_time": "2024-08-15T20:05:09.484Z"
   },
   {
    "duration": 7,
    "start_time": "2024-08-15T20:20:23.156Z"
   },
   {
    "duration": 12,
    "start_time": "2024-08-15T20:24:53.983Z"
   },
   {
    "duration": 12,
    "start_time": "2024-08-15T20:27:37.381Z"
   },
   {
    "duration": 12,
    "start_time": "2024-08-15T20:27:55.637Z"
   },
   {
    "duration": 10,
    "start_time": "2024-08-15T20:28:20.276Z"
   },
   {
    "duration": 12,
    "start_time": "2024-08-15T20:30:08.290Z"
   },
   {
    "duration": 10,
    "start_time": "2024-08-15T20:50:16.022Z"
   },
   {
    "duration": 39,
    "start_time": "2024-08-15T20:50:44.424Z"
   },
   {
    "duration": 20,
    "start_time": "2024-08-15T20:50:56.590Z"
   },
   {
    "duration": 18,
    "start_time": "2024-08-15T20:54:17.145Z"
   },
   {
    "duration": 18,
    "start_time": "2024-08-15T20:55:06.242Z"
   },
   {
    "duration": 18,
    "start_time": "2024-08-15T20:55:40.566Z"
   },
   {
    "duration": 18,
    "start_time": "2024-08-15T20:56:27.252Z"
   },
   {
    "duration": 4757,
    "start_time": "2024-08-15T21:45:13.079Z"
   },
   {
    "duration": 56,
    "start_time": "2024-08-15T21:45:21.865Z"
   },
   {
    "duration": 27,
    "start_time": "2024-08-15T21:45:22.412Z"
   },
   {
    "duration": 49,
    "start_time": "2024-08-15T21:45:22.606Z"
   },
   {
    "duration": 4,
    "start_time": "2024-08-15T21:45:23.151Z"
   },
   {
    "duration": 32,
    "start_time": "2024-08-15T21:45:25.041Z"
   },
   {
    "duration": 10,
    "start_time": "2024-08-15T21:45:29.360Z"
   },
   {
    "duration": 28,
    "start_time": "2024-08-15T21:45:30.080Z"
   },
   {
    "duration": 10,
    "start_time": "2024-08-15T21:45:30.852Z"
   },
   {
    "duration": 37,
    "start_time": "2024-08-15T21:45:31.972Z"
   },
   {
    "duration": 27,
    "start_time": "2024-08-15T21:45:34.557Z"
   },
   {
    "duration": 533,
    "start_time": "2024-08-15T21:45:49.063Z"
   },
   {
    "duration": 444,
    "start_time": "2024-08-15T21:45:50.439Z"
   },
   {
    "duration": 38,
    "start_time": "2024-08-15T21:45:52.590Z"
   },
   {
    "duration": 13,
    "start_time": "2024-08-15T21:45:53.194Z"
   },
   {
    "duration": 930,
    "start_time": "2024-08-15T21:45:53.797Z"
   },
   {
    "duration": 18,
    "start_time": "2024-08-15T21:45:55.499Z"
   },
   {
    "duration": 5,
    "start_time": "2024-08-15T21:45:56.590Z"
   },
   {
    "duration": 629,
    "start_time": "2024-08-15T21:45:58.449Z"
   },
   {
    "duration": 18,
    "start_time": "2024-08-15T21:46:00.756Z"
   },
   {
    "duration": 286,
    "start_time": "2024-08-15T21:46:01.298Z"
   },
   {
    "duration": 6,
    "start_time": "2024-08-15T21:46:01.939Z"
   },
   {
    "duration": 18,
    "start_time": "2024-08-15T21:46:03.455Z"
   },
   {
    "duration": 13,
    "start_time": "2024-08-15T21:46:04.757Z"
   },
   {
    "duration": 20,
    "start_time": "2024-08-15T21:46:06.440Z"
   },
   {
    "duration": 18,
    "start_time": "2024-08-15T21:52:28.381Z"
   },
   {
    "duration": 18,
    "start_time": "2024-08-15T22:08:50.268Z"
   },
   {
    "duration": 480,
    "start_time": "2024-08-15T22:10:34.468Z"
   },
   {
    "duration": 4,
    "start_time": "2024-08-15T22:18:27.593Z"
   },
   {
    "duration": 30,
    "start_time": "2024-08-15T22:18:50.206Z"
   },
   {
    "duration": 11,
    "start_time": "2024-08-15T22:20:07.582Z"
   },
   {
    "duration": 12,
    "start_time": "2024-08-15T22:20:20.832Z"
   },
   {
    "duration": 1086,
    "start_time": "2024-08-15T22:24:25.291Z"
   },
   {
    "duration": 12,
    "start_time": "2024-08-15T22:24:55.462Z"
   },
   {
    "duration": 31,
    "start_time": "2024-08-15T22:32:18.353Z"
   },
   {
    "duration": 774,
    "start_time": "2024-08-15T22:32:33.872Z"
   },
   {
    "duration": 18,
    "start_time": "2024-08-15T22:32:42.999Z"
   },
   {
    "duration": 18,
    "start_time": "2024-08-15T22:33:09.424Z"
   },
   {
    "duration": 17,
    "start_time": "2024-08-15T22:33:18.878Z"
   },
   {
    "duration": 15,
    "start_time": "2024-08-15T22:51:58.071Z"
   },
   {
    "duration": 14,
    "start_time": "2024-08-15T22:53:31.102Z"
   },
   {
    "duration": 15,
    "start_time": "2024-08-15T22:58:47.748Z"
   },
   {
    "duration": 16,
    "start_time": "2024-08-15T23:00:43.630Z"
   },
   {
    "duration": 4884,
    "start_time": "2024-08-18T14:20:00.595Z"
   },
   {
    "duration": 59,
    "start_time": "2024-08-18T14:20:07.629Z"
   },
   {
    "duration": 26,
    "start_time": "2024-08-18T14:20:10.771Z"
   },
   {
    "duration": 48,
    "start_time": "2024-08-18T14:20:11.730Z"
   },
   {
    "duration": 4,
    "start_time": "2024-08-18T14:20:17.432Z"
   },
   {
    "duration": 33,
    "start_time": "2024-08-18T14:20:18.127Z"
   },
   {
    "duration": 10,
    "start_time": "2024-08-18T14:20:21.612Z"
   },
   {
    "duration": 28,
    "start_time": "2024-08-18T14:20:23.673Z"
   },
   {
    "duration": 12,
    "start_time": "2024-08-18T14:20:26.081Z"
   },
   {
    "duration": 36,
    "start_time": "2024-08-18T14:20:26.953Z"
   },
   {
    "duration": 26,
    "start_time": "2024-08-18T14:20:30.531Z"
   },
   {
    "duration": 540,
    "start_time": "2024-08-18T14:20:33.294Z"
   },
   {
    "duration": 456,
    "start_time": "2024-08-18T14:20:38.767Z"
   },
   {
    "duration": 38,
    "start_time": "2024-08-18T14:20:44.180Z"
   },
   {
    "duration": 14,
    "start_time": "2024-08-18T14:20:53.420Z"
   },
   {
    "duration": 960,
    "start_time": "2024-08-18T14:20:56.605Z"
   },
   {
    "duration": 18,
    "start_time": "2024-08-18T14:21:37.527Z"
   },
   {
    "duration": 6,
    "start_time": "2024-08-18T14:21:37.936Z"
   },
   {
    "duration": 662,
    "start_time": "2024-08-18T14:21:38.575Z"
   },
   {
    "duration": 18,
    "start_time": "2024-08-18T14:21:39.892Z"
   },
   {
    "duration": 287,
    "start_time": "2024-08-18T14:21:40.164Z"
   },
   {
    "duration": 7,
    "start_time": "2024-08-18T14:21:40.705Z"
   },
   {
    "duration": 18,
    "start_time": "2024-08-18T14:21:41.671Z"
   },
   {
    "duration": 13,
    "start_time": "2024-08-18T14:21:42.212Z"
   },
   {
    "duration": 17,
    "start_time": "2024-08-18T14:21:43.410Z"
   },
   {
    "duration": 12,
    "start_time": "2024-08-18T14:21:44.631Z"
   },
   {
    "duration": 18,
    "start_time": "2024-08-18T14:21:46.271Z"
   },
   {
    "duration": 18,
    "start_time": "2024-08-18T14:21:48.372Z"
   },
   {
    "duration": 13,
    "start_time": "2024-08-18T14:21:51.512Z"
   },
   {
    "duration": 13,
    "start_time": "2024-08-18T14:21:55.145Z"
   },
   {
    "duration": 5,
    "start_time": "2024-08-18T14:41:47.873Z"
   },
   {
    "duration": 1266,
    "start_time": "2024-08-18T14:41:55.177Z"
   },
   {
    "duration": 48,
    "start_time": "2024-08-18T14:41:58.040Z"
   },
   {
    "duration": 39,
    "start_time": "2024-08-18T14:42:04.517Z"
   },
   {
    "duration": 50,
    "start_time": "2024-08-18T14:42:17.556Z"
   },
   {
    "duration": 4,
    "start_time": "2024-08-18T14:42:33.211Z"
   },
   {
    "duration": 34,
    "start_time": "2024-08-18T14:42:34.041Z"
   },
   {
    "duration": 11,
    "start_time": "2024-08-18T14:42:59.806Z"
   },
   {
    "duration": 28,
    "start_time": "2024-08-18T14:43:03.242Z"
   },
   {
    "duration": 11,
    "start_time": "2024-08-18T14:43:11.283Z"
   },
   {
    "duration": 35,
    "start_time": "2024-08-18T14:43:12.411Z"
   },
   {
    "duration": 46,
    "start_time": "2024-08-18T14:43:21.260Z"
   },
   {
    "duration": 1040,
    "start_time": "2024-08-18T14:48:28.278Z"
   },
   {
    "duration": 1200,
    "start_time": "2024-08-18T14:49:23.227Z"
   },
   {
    "duration": 40,
    "start_time": "2024-08-18T14:49:26.920Z"
   },
   {
    "duration": 38,
    "start_time": "2024-08-18T14:49:30.409Z"
   },
   {
    "duration": 53,
    "start_time": "2024-08-18T14:49:37.437Z"
   },
   {
    "duration": 5,
    "start_time": "2024-08-18T14:49:43.005Z"
   },
   {
    "duration": 32,
    "start_time": "2024-08-18T14:49:43.960Z"
   },
   {
    "duration": 11,
    "start_time": "2024-08-18T14:49:48.212Z"
   },
   {
    "duration": 33,
    "start_time": "2024-08-18T14:49:50.040Z"
   },
   {
    "duration": 11,
    "start_time": "2024-08-18T14:49:53.467Z"
   },
   {
    "duration": 50,
    "start_time": "2024-08-18T14:49:54.271Z"
   },
   {
    "duration": 27,
    "start_time": "2024-08-18T14:49:59.408Z"
   },
   {
    "duration": 520,
    "start_time": "2024-08-18T14:50:02.024Z"
   },
   {
    "duration": 518,
    "start_time": "2024-08-18T14:50:06.551Z"
   },
   {
    "duration": 37,
    "start_time": "2024-08-18T14:50:11.828Z"
   },
   {
    "duration": 14,
    "start_time": "2024-08-18T14:50:14.858Z"
   },
   {
    "duration": 943,
    "start_time": "2024-08-18T14:50:17.638Z"
   },
   {
    "duration": 18,
    "start_time": "2024-08-18T14:50:36.617Z"
   },
   {
    "duration": 5,
    "start_time": "2024-08-18T14:50:52.132Z"
   },
   {
    "duration": 625,
    "start_time": "2024-08-18T14:50:56.686Z"
   },
   {
    "duration": 20,
    "start_time": "2024-08-18T14:51:08.652Z"
   },
   {
    "duration": 288,
    "start_time": "2024-08-18T14:51:19.905Z"
   },
   {
    "duration": 7,
    "start_time": "2024-08-18T14:51:25.655Z"
   },
   {
    "duration": 19,
    "start_time": "2024-08-18T14:51:41.686Z"
   },
   {
    "duration": 19,
    "start_time": "2024-08-18T14:53:28.052Z"
   },
   {
    "duration": 17,
    "start_time": "2024-08-18T14:53:33.526Z"
   },
   {
    "duration": 13,
    "start_time": "2024-08-18T14:53:39.581Z"
   },
   {
    "duration": 18,
    "start_time": "2024-08-18T14:53:44.461Z"
   },
   {
    "duration": 16,
    "start_time": "2024-08-18T14:53:48.116Z"
   },
   {
    "duration": 13,
    "start_time": "2024-08-18T14:53:52.050Z"
   },
   {
    "duration": 13,
    "start_time": "2024-08-18T14:54:04.621Z"
   },
   {
    "duration": 23,
    "start_time": "2024-08-18T14:54:42.115Z"
   },
   {
    "duration": 6,
    "start_time": "2024-08-18T14:54:53.004Z"
   },
   {
    "duration": 649,
    "start_time": "2024-08-18T14:54:56.972Z"
   },
   {
    "duration": 19,
    "start_time": "2024-08-18T14:55:27.411Z"
   },
   {
    "duration": 284,
    "start_time": "2024-08-18T14:55:34.033Z"
   },
   {
    "duration": 7,
    "start_time": "2024-08-18T14:55:39.460Z"
   },
   {
    "duration": 23,
    "start_time": "2024-08-18T14:55:45.517Z"
   },
   {
    "duration": 14,
    "start_time": "2024-08-18T14:55:48.921Z"
   },
   {
    "duration": 17,
    "start_time": "2024-08-18T14:55:53.617Z"
   },
   {
    "duration": 14,
    "start_time": "2024-08-18T14:56:06.288Z"
   },
   {
    "duration": 17,
    "start_time": "2024-08-18T14:56:12.772Z"
   },
   {
    "duration": 16,
    "start_time": "2024-08-18T14:56:19.319Z"
   },
   {
    "duration": 14,
    "start_time": "2024-08-18T14:56:30.627Z"
   },
   {
    "duration": 13,
    "start_time": "2024-08-18T14:56:38.098Z"
   },
   {
    "duration": 5009,
    "start_time": "2024-08-18T16:19:59.501Z"
   },
   {
    "duration": 53,
    "start_time": "2024-08-18T16:20:28.030Z"
   },
   {
    "duration": 39,
    "start_time": "2024-08-18T16:20:28.998Z"
   },
   {
    "duration": 49,
    "start_time": "2024-08-18T16:20:29.041Z"
   },
   {
    "duration": 4,
    "start_time": "2024-08-18T16:20:29.597Z"
   },
   {
    "duration": 32,
    "start_time": "2024-08-18T16:20:29.826Z"
   },
   {
    "duration": 11,
    "start_time": "2024-08-18T16:20:30.117Z"
   },
   {
    "duration": 27,
    "start_time": "2024-08-18T16:20:30.410Z"
   },
   {
    "duration": 11,
    "start_time": "2024-08-18T16:20:30.826Z"
   },
   {
    "duration": 47,
    "start_time": "2024-08-18T16:20:31.317Z"
   },
   {
    "duration": 26,
    "start_time": "2024-08-18T16:20:32.153Z"
   },
   {
    "duration": 540,
    "start_time": "2024-08-18T16:20:33.375Z"
   },
   {
    "duration": 465,
    "start_time": "2024-08-18T16:20:33.921Z"
   },
   {
    "duration": 37,
    "start_time": "2024-08-18T16:20:34.473Z"
   },
   {
    "duration": 17,
    "start_time": "2024-08-18T16:20:35.101Z"
   },
   {
    "duration": 1011,
    "start_time": "2024-08-18T16:20:35.122Z"
   },
   {
    "duration": 18,
    "start_time": "2024-08-18T16:20:36.317Z"
   },
   {
    "duration": 227469,
    "start_time": "2024-08-18T16:20:37.834Z"
   },
   {
    "duration": 229960,
    "start_time": "2024-08-18T16:32:40.279Z"
   },
   {
    "duration": 321,
    "start_time": "2024-08-18T16:38:52.668Z"
   },
   {
    "duration": 19,
    "start_time": "2024-08-18T16:39:15.727Z"
   },
   {
    "duration": 333,
    "start_time": "2024-08-18T16:39:28.608Z"
   },
   {
    "duration": 270,
    "start_time": "2024-08-18T16:40:22.103Z"
   },
   {
    "duration": 300,
    "start_time": "2024-08-18T16:42:23.449Z"
   },
   {
    "duration": 264,
    "start_time": "2024-08-18T16:42:33.956Z"
   },
   {
    "duration": 5,
    "start_time": "2024-08-18T16:45:58.921Z"
   },
   {
    "duration": 651,
    "start_time": "2024-08-18T16:46:01.000Z"
   },
   {
    "duration": 20,
    "start_time": "2024-08-18T16:52:10.427Z"
   },
   {
    "duration": 285,
    "start_time": "2024-08-18T16:52:11.548Z"
   },
   {
    "duration": 7,
    "start_time": "2024-08-18T16:52:12.361Z"
   },
   {
    "duration": 21,
    "start_time": "2024-08-18T16:52:13.490Z"
   },
   {
    "duration": 14,
    "start_time": "2024-08-18T16:52:14.305Z"
   },
   {
    "duration": 19,
    "start_time": "2024-08-18T16:52:15.233Z"
   },
   {
    "duration": 12,
    "start_time": "2024-08-18T16:52:16.004Z"
   },
   {
    "duration": 18,
    "start_time": "2024-08-18T16:52:16.811Z"
   },
   {
    "duration": 21,
    "start_time": "2024-08-18T16:52:17.515Z"
   },
   {
    "duration": 13,
    "start_time": "2024-08-18T16:52:18.901Z"
   },
   {
    "duration": 12,
    "start_time": "2024-08-18T16:52:21.100Z"
   }
  ],
  "kernelspec": {
   "display_name": "Python 3 (ipykernel)",
   "language": "python",
   "name": "python3"
  },
  "language_info": {
   "codemirror_mode": {
    "name": "ipython",
    "version": 3
   },
   "file_extension": ".py",
   "mimetype": "text/x-python",
   "name": "python",
   "nbconvert_exporter": "python",
   "pygments_lexer": "ipython3",
   "version": "3.9.19"
  },
  "toc": {
   "base_numbering": 1,
   "nav_menu": {
    "height": "157px",
    "width": "373.6px"
   },
   "number_sections": true,
   "sideBar": true,
   "skip_h1_title": true,
   "title_cell": "Table of Contents",
   "title_sidebar": "Contents",
   "toc_cell": false,
   "toc_position": {
    "height": "calc(100% - 180px)",
    "left": "10px",
    "top": "150px",
    "width": "168.4px"
   },
   "toc_section_display": true,
   "toc_window_display": true
  }
 },
 "nbformat": 4,
 "nbformat_minor": 2
}
